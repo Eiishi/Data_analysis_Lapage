{
 "cells": [
  {
   "cell_type": "markdown",
   "id": "6e73081d",
   "metadata": {},
   "source": [
    "# Analyse de l'évolution des ventes et des profils clients"
   ]
  },
  {
   "cell_type": "markdown",
   "id": "ce864e29",
   "metadata": {},
   "source": [
    "## Librairie Lapage"
   ]
  },
  {
   "cell_type": "code",
   "execution_count": 1,
   "id": "5d93f133",
   "metadata": {},
   "outputs": [],
   "source": [
    "import pandas as pd\n",
    "import numpy as np\n",
    "import matplotlib.pyplot as plt\n",
    "import seaborn as sns\n",
    "import pingouin as pg\n",
    "import datetime"
   ]
  },
  {
   "cell_type": "markdown",
   "id": "a1d2bf6c",
   "metadata": {},
   "source": [
    "### Importation des données et premier aperçu"
   ]
  },
  {
   "cell_type": "code",
   "execution_count": 2,
   "id": "d1deebea",
   "metadata": {},
   "outputs": [
    {
     "data": {
      "text/html": [
       "<div>\n",
       "<style scoped>\n",
       "    .dataframe tbody tr th:only-of-type {\n",
       "        vertical-align: middle;\n",
       "    }\n",
       "\n",
       "    .dataframe tbody tr th {\n",
       "        vertical-align: top;\n",
       "    }\n",
       "\n",
       "    .dataframe thead th {\n",
       "        text-align: right;\n",
       "    }\n",
       "</style>\n",
       "<table border=\"1\" class=\"dataframe\">\n",
       "  <thead>\n",
       "    <tr style=\"text-align: right;\">\n",
       "      <th></th>\n",
       "      <th>client_id</th>\n",
       "      <th>sex</th>\n",
       "      <th>birth</th>\n",
       "    </tr>\n",
       "  </thead>\n",
       "  <tbody>\n",
       "    <tr>\n",
       "      <th>0</th>\n",
       "      <td>c_4410</td>\n",
       "      <td>f</td>\n",
       "      <td>1967</td>\n",
       "    </tr>\n",
       "    <tr>\n",
       "      <th>1</th>\n",
       "      <td>c_7839</td>\n",
       "      <td>f</td>\n",
       "      <td>1975</td>\n",
       "    </tr>\n",
       "    <tr>\n",
       "      <th>2</th>\n",
       "      <td>c_1699</td>\n",
       "      <td>f</td>\n",
       "      <td>1984</td>\n",
       "    </tr>\n",
       "  </tbody>\n",
       "</table>\n",
       "</div>"
      ],
      "text/plain": [
       "  client_id sex  birth\n",
       "0    c_4410   f   1967\n",
       "1    c_7839   f   1975\n",
       "2    c_1699   f   1984"
      ]
     },
     "execution_count": 2,
     "metadata": {},
     "output_type": "execute_result"
    }
   ],
   "source": [
    "customers = pd.read_csv('../Documents/Sana/Data Analyst/P6/DAN-P6-donnees/customers.csv')\n",
    "customers.head(3)"
   ]
  },
  {
   "cell_type": "code",
   "execution_count": 3,
   "id": "24337e62",
   "metadata": {},
   "outputs": [
    {
     "name": "stdout",
     "output_type": "stream",
     "text": [
      "Le dataframe est de la forme (8623, 3)\n"
     ]
    }
   ],
   "source": [
    "print(\"Le dataframe est de la forme\", customers.shape)"
   ]
  },
  {
   "cell_type": "code",
   "execution_count": 4,
   "id": "57ec4eb0",
   "metadata": {},
   "outputs": [
    {
     "data": {
      "text/html": [
       "<div>\n",
       "<style scoped>\n",
       "    .dataframe tbody tr th:only-of-type {\n",
       "        vertical-align: middle;\n",
       "    }\n",
       "\n",
       "    .dataframe tbody tr th {\n",
       "        vertical-align: top;\n",
       "    }\n",
       "\n",
       "    .dataframe thead th {\n",
       "        text-align: right;\n",
       "    }\n",
       "</style>\n",
       "<table border=\"1\" class=\"dataframe\">\n",
       "  <thead>\n",
       "    <tr style=\"text-align: right;\">\n",
       "      <th></th>\n",
       "      <th>id_prod</th>\n",
       "      <th>price</th>\n",
       "      <th>categ</th>\n",
       "    </tr>\n",
       "  </thead>\n",
       "  <tbody>\n",
       "    <tr>\n",
       "      <th>0</th>\n",
       "      <td>0_1421</td>\n",
       "      <td>19.99</td>\n",
       "      <td>0</td>\n",
       "    </tr>\n",
       "    <tr>\n",
       "      <th>1</th>\n",
       "      <td>0_1368</td>\n",
       "      <td>5.13</td>\n",
       "      <td>0</td>\n",
       "    </tr>\n",
       "    <tr>\n",
       "      <th>2</th>\n",
       "      <td>0_731</td>\n",
       "      <td>17.99</td>\n",
       "      <td>0</td>\n",
       "    </tr>\n",
       "  </tbody>\n",
       "</table>\n",
       "</div>"
      ],
      "text/plain": [
       "  id_prod  price  categ\n",
       "0  0_1421  19.99      0\n",
       "1  0_1368   5.13      0\n",
       "2   0_731  17.99      0"
      ]
     },
     "execution_count": 4,
     "metadata": {},
     "output_type": "execute_result"
    }
   ],
   "source": [
    "products = pd.read_csv('../Documents/Sana/Data Analyst/P6/DAN-P6-donnees/products.csv')\n",
    "products.head(3)"
   ]
  },
  {
   "cell_type": "code",
   "execution_count": 5,
   "id": "91ba52b3",
   "metadata": {},
   "outputs": [
    {
     "name": "stdout",
     "output_type": "stream",
     "text": [
      "Le dataframe est de la forme (3287, 3)\n"
     ]
    }
   ],
   "source": [
    "print(\"Le dataframe est de la forme\", products.shape)"
   ]
  },
  {
   "cell_type": "code",
   "execution_count": 6,
   "id": "a7e22a3e",
   "metadata": {},
   "outputs": [
    {
     "data": {
      "text/html": [
       "<div>\n",
       "<style scoped>\n",
       "    .dataframe tbody tr th:only-of-type {\n",
       "        vertical-align: middle;\n",
       "    }\n",
       "\n",
       "    .dataframe tbody tr th {\n",
       "        vertical-align: top;\n",
       "    }\n",
       "\n",
       "    .dataframe thead th {\n",
       "        text-align: right;\n",
       "    }\n",
       "</style>\n",
       "<table border=\"1\" class=\"dataframe\">\n",
       "  <thead>\n",
       "    <tr style=\"text-align: right;\">\n",
       "      <th></th>\n",
       "      <th>id_prod</th>\n",
       "      <th>date</th>\n",
       "      <th>session_id</th>\n",
       "      <th>client_id</th>\n",
       "    </tr>\n",
       "  </thead>\n",
       "  <tbody>\n",
       "    <tr>\n",
       "      <th>0</th>\n",
       "      <td>0_1518</td>\n",
       "      <td>2022-05-20 13:21:29.043970</td>\n",
       "      <td>s_211425</td>\n",
       "      <td>c_103</td>\n",
       "    </tr>\n",
       "    <tr>\n",
       "      <th>1</th>\n",
       "      <td>1_251</td>\n",
       "      <td>2022-02-02 07:55:19.149409</td>\n",
       "      <td>s_158752</td>\n",
       "      <td>c_8534</td>\n",
       "    </tr>\n",
       "    <tr>\n",
       "      <th>2</th>\n",
       "      <td>0_1277</td>\n",
       "      <td>2022-06-18 15:44:33.155329</td>\n",
       "      <td>s_225667</td>\n",
       "      <td>c_6714</td>\n",
       "    </tr>\n",
       "  </tbody>\n",
       "</table>\n",
       "</div>"
      ],
      "text/plain": [
       "  id_prod                        date session_id client_id\n",
       "0  0_1518  2022-05-20 13:21:29.043970   s_211425     c_103\n",
       "1   1_251  2022-02-02 07:55:19.149409   s_158752    c_8534\n",
       "2  0_1277  2022-06-18 15:44:33.155329   s_225667    c_6714"
      ]
     },
     "execution_count": 6,
     "metadata": {},
     "output_type": "execute_result"
    }
   ],
   "source": [
    "transactions = pd.read_csv('../Documents/Sana/Data Analyst/P6/DAN-P6-donnees/transactions.csv')\n",
    "transactions.head(3)"
   ]
  },
  {
   "cell_type": "code",
   "execution_count": 7,
   "id": "6fee1d28",
   "metadata": {},
   "outputs": [
    {
     "name": "stdout",
     "output_type": "stream",
     "text": [
      "Le dataframe est de la forme (679532, 4)\n"
     ]
    }
   ],
   "source": [
    "print(\"Le dataframe est de la forme\", transactions.shape)"
   ]
  },
  {
   "cell_type": "markdown",
   "id": "717e811f",
   "metadata": {},
   "source": [
    "### Préparation des données"
   ]
  },
  {
   "cell_type": "markdown",
   "id": "15b09b5e",
   "metadata": {},
   "source": [
    "On remarque la présence d'un produit d'id T_0 qui a un prix de -1€, des \"test_\" au niveau des dates et 2 clients test. On décide de supprimer ces références dans les tables."
   ]
  },
  {
   "cell_type": "code",
   "execution_count": 8,
   "id": "08f16db1",
   "metadata": {},
   "outputs": [
    {
     "data": {
      "text/html": [
       "<div>\n",
       "<style scoped>\n",
       "    .dataframe tbody tr th:only-of-type {\n",
       "        vertical-align: middle;\n",
       "    }\n",
       "\n",
       "    .dataframe tbody tr th {\n",
       "        vertical-align: top;\n",
       "    }\n",
       "\n",
       "    .dataframe thead th {\n",
       "        text-align: right;\n",
       "    }\n",
       "</style>\n",
       "<table border=\"1\" class=\"dataframe\">\n",
       "  <thead>\n",
       "    <tr style=\"text-align: right;\">\n",
       "      <th></th>\n",
       "      <th>id_prod</th>\n",
       "      <th>price</th>\n",
       "      <th>categ</th>\n",
       "    </tr>\n",
       "  </thead>\n",
       "  <tbody>\n",
       "    <tr>\n",
       "      <th>731</th>\n",
       "      <td>T_0</td>\n",
       "      <td>-1.0</td>\n",
       "      <td>0</td>\n",
       "    </tr>\n",
       "  </tbody>\n",
       "</table>\n",
       "</div>"
      ],
      "text/plain": [
       "    id_prod  price  categ\n",
       "731     T_0   -1.0      0"
      ]
     },
     "execution_count": 8,
     "metadata": {},
     "output_type": "execute_result"
    }
   ],
   "source": [
    "products[products['id_prod'].str.startswith('T_')]"
   ]
  },
  {
   "cell_type": "code",
   "execution_count": 9,
   "id": "23365912",
   "metadata": {},
   "outputs": [
    {
     "data": {
      "text/html": [
       "<div>\n",
       "<style scoped>\n",
       "    .dataframe tbody tr th:only-of-type {\n",
       "        vertical-align: middle;\n",
       "    }\n",
       "\n",
       "    .dataframe tbody tr th {\n",
       "        vertical-align: top;\n",
       "    }\n",
       "\n",
       "    .dataframe thead th {\n",
       "        text-align: right;\n",
       "    }\n",
       "</style>\n",
       "<table border=\"1\" class=\"dataframe\">\n",
       "  <thead>\n",
       "    <tr style=\"text-align: right;\">\n",
       "      <th></th>\n",
       "      <th>id_prod</th>\n",
       "      <th>date</th>\n",
       "      <th>session_id</th>\n",
       "      <th>client_id</th>\n",
       "    </tr>\n",
       "  </thead>\n",
       "  <tbody>\n",
       "    <tr>\n",
       "      <th>3019</th>\n",
       "      <td>T_0</td>\n",
       "      <td>test_2021-03-01 02:30:02.237419</td>\n",
       "      <td>s_0</td>\n",
       "      <td>ct_0</td>\n",
       "    </tr>\n",
       "    <tr>\n",
       "      <th>5138</th>\n",
       "      <td>T_0</td>\n",
       "      <td>test_2021-03-01 02:30:02.237425</td>\n",
       "      <td>s_0</td>\n",
       "      <td>ct_0</td>\n",
       "    </tr>\n",
       "    <tr>\n",
       "      <th>9668</th>\n",
       "      <td>T_0</td>\n",
       "      <td>test_2021-03-01 02:30:02.237437</td>\n",
       "      <td>s_0</td>\n",
       "      <td>ct_1</td>\n",
       "    </tr>\n",
       "    <tr>\n",
       "      <th>10728</th>\n",
       "      <td>T_0</td>\n",
       "      <td>test_2021-03-01 02:30:02.237436</td>\n",
       "      <td>s_0</td>\n",
       "      <td>ct_0</td>\n",
       "    </tr>\n",
       "    <tr>\n",
       "      <th>15292</th>\n",
       "      <td>T_0</td>\n",
       "      <td>test_2021-03-01 02:30:02.237430</td>\n",
       "      <td>s_0</td>\n",
       "      <td>ct_0</td>\n",
       "    </tr>\n",
       "    <tr>\n",
       "      <th>...</th>\n",
       "      <td>...</td>\n",
       "      <td>...</td>\n",
       "      <td>...</td>\n",
       "      <td>...</td>\n",
       "    </tr>\n",
       "    <tr>\n",
       "      <th>657830</th>\n",
       "      <td>T_0</td>\n",
       "      <td>test_2021-03-01 02:30:02.237417</td>\n",
       "      <td>s_0</td>\n",
       "      <td>ct_0</td>\n",
       "    </tr>\n",
       "    <tr>\n",
       "      <th>662081</th>\n",
       "      <td>T_0</td>\n",
       "      <td>test_2021-03-01 02:30:02.237427</td>\n",
       "      <td>s_0</td>\n",
       "      <td>ct_1</td>\n",
       "    </tr>\n",
       "    <tr>\n",
       "      <th>670680</th>\n",
       "      <td>T_0</td>\n",
       "      <td>test_2021-03-01 02:30:02.237449</td>\n",
       "      <td>s_0</td>\n",
       "      <td>ct_1</td>\n",
       "    </tr>\n",
       "    <tr>\n",
       "      <th>671647</th>\n",
       "      <td>T_0</td>\n",
       "      <td>test_2021-03-01 02:30:02.237424</td>\n",
       "      <td>s_0</td>\n",
       "      <td>ct_1</td>\n",
       "    </tr>\n",
       "    <tr>\n",
       "      <th>679180</th>\n",
       "      <td>T_0</td>\n",
       "      <td>test_2021-03-01 02:30:02.237425</td>\n",
       "      <td>s_0</td>\n",
       "      <td>ct_1</td>\n",
       "    </tr>\n",
       "  </tbody>\n",
       "</table>\n",
       "<p>200 rows × 4 columns</p>\n",
       "</div>"
      ],
      "text/plain": [
       "       id_prod                             date session_id client_id\n",
       "3019       T_0  test_2021-03-01 02:30:02.237419        s_0      ct_0\n",
       "5138       T_0  test_2021-03-01 02:30:02.237425        s_0      ct_0\n",
       "9668       T_0  test_2021-03-01 02:30:02.237437        s_0      ct_1\n",
       "10728      T_0  test_2021-03-01 02:30:02.237436        s_0      ct_0\n",
       "15292      T_0  test_2021-03-01 02:30:02.237430        s_0      ct_0\n",
       "...        ...                              ...        ...       ...\n",
       "657830     T_0  test_2021-03-01 02:30:02.237417        s_0      ct_0\n",
       "662081     T_0  test_2021-03-01 02:30:02.237427        s_0      ct_1\n",
       "670680     T_0  test_2021-03-01 02:30:02.237449        s_0      ct_1\n",
       "671647     T_0  test_2021-03-01 02:30:02.237424        s_0      ct_1\n",
       "679180     T_0  test_2021-03-01 02:30:02.237425        s_0      ct_1\n",
       "\n",
       "[200 rows x 4 columns]"
      ]
     },
     "execution_count": 9,
     "metadata": {},
     "output_type": "execute_result"
    }
   ],
   "source": [
    "transactions[transactions['date'].str.startswith('test_')]"
   ]
  },
  {
   "cell_type": "code",
   "execution_count": 10,
   "id": "c4755214",
   "metadata": {},
   "outputs": [
    {
     "data": {
      "text/html": [
       "<div>\n",
       "<style scoped>\n",
       "    .dataframe tbody tr th:only-of-type {\n",
       "        vertical-align: middle;\n",
       "    }\n",
       "\n",
       "    .dataframe tbody tr th {\n",
       "        vertical-align: top;\n",
       "    }\n",
       "\n",
       "    .dataframe thead th {\n",
       "        text-align: right;\n",
       "    }\n",
       "</style>\n",
       "<table border=\"1\" class=\"dataframe\">\n",
       "  <thead>\n",
       "    <tr style=\"text-align: right;\">\n",
       "      <th></th>\n",
       "      <th>client_id</th>\n",
       "      <th>sex</th>\n",
       "      <th>birth</th>\n",
       "    </tr>\n",
       "  </thead>\n",
       "  <tbody>\n",
       "    <tr>\n",
       "      <th>2735</th>\n",
       "      <td>ct_0</td>\n",
       "      <td>f</td>\n",
       "      <td>2001</td>\n",
       "    </tr>\n",
       "    <tr>\n",
       "      <th>8494</th>\n",
       "      <td>ct_1</td>\n",
       "      <td>m</td>\n",
       "      <td>2001</td>\n",
       "    </tr>\n",
       "  </tbody>\n",
       "</table>\n",
       "</div>"
      ],
      "text/plain": [
       "     client_id sex  birth\n",
       "2735      ct_0   f   2001\n",
       "8494      ct_1   m   2001"
      ]
     },
     "execution_count": 10,
     "metadata": {},
     "output_type": "execute_result"
    }
   ],
   "source": [
    "customers[customers['client_id'].str.startswith('ct_')]"
   ]
  },
  {
   "cell_type": "code",
   "execution_count": 11,
   "id": "21af7361",
   "metadata": {},
   "outputs": [
    {
     "data": {
      "text/plain": [
       "(3286, 3)"
      ]
     },
     "execution_count": 11,
     "metadata": {},
     "output_type": "execute_result"
    }
   ],
   "source": [
    "products = products[~products['id_prod'].str.startswith('T_')]\n",
    "products.shape"
   ]
  },
  {
   "cell_type": "code",
   "execution_count": 12,
   "id": "a5176692",
   "metadata": {},
   "outputs": [
    {
     "data": {
      "text/plain": [
       "(679332, 4)"
      ]
     },
     "execution_count": 12,
     "metadata": {},
     "output_type": "execute_result"
    }
   ],
   "source": [
    "transactions = transactions[~transactions['date'].str.startswith('test_')]\n",
    "transactions.shape"
   ]
  },
  {
   "cell_type": "code",
   "execution_count": 13,
   "id": "237ca457",
   "metadata": {},
   "outputs": [
    {
     "data": {
      "text/plain": [
       "(8621, 3)"
      ]
     },
     "execution_count": 13,
     "metadata": {},
     "output_type": "execute_result"
    }
   ],
   "source": [
    "customers = customers[~customers['client_id'].str.startswith('ct_')]\n",
    "customers.shape"
   ]
  },
  {
   "cell_type": "markdown",
   "id": "b21b42f1",
   "metadata": {},
   "source": [
    "#### Types de données"
   ]
  },
  {
   "cell_type": "code",
   "execution_count": 14,
   "id": "6f46e302",
   "metadata": {},
   "outputs": [
    {
     "data": {
      "text/plain": [
       "client_id    object\n",
       "sex          object\n",
       "birth         int64\n",
       "dtype: object"
      ]
     },
     "execution_count": 14,
     "metadata": {},
     "output_type": "execute_result"
    }
   ],
   "source": [
    "customers.dtypes"
   ]
  },
  {
   "cell_type": "code",
   "execution_count": 15,
   "id": "a295355f",
   "metadata": {},
   "outputs": [
    {
     "data": {
      "text/plain": [
       "id_prod     object\n",
       "price      float64\n",
       "categ        int64\n",
       "dtype: object"
      ]
     },
     "execution_count": 15,
     "metadata": {},
     "output_type": "execute_result"
    }
   ],
   "source": [
    "products.dtypes"
   ]
  },
  {
   "cell_type": "code",
   "execution_count": 16,
   "id": "376750b1",
   "metadata": {},
   "outputs": [
    {
     "data": {
      "text/plain": [
       "id_prod       object\n",
       "date          object\n",
       "session_id    object\n",
       "client_id     object\n",
       "dtype: object"
      ]
     },
     "execution_count": 16,
     "metadata": {},
     "output_type": "execute_result"
    }
   ],
   "source": [
    "transactions.dtypes"
   ]
  },
  {
   "cell_type": "markdown",
   "id": "fde54699",
   "metadata": {},
   "source": [
    "Ici, avoir des ID non numériques n'est a priori pas un problème car on n'a pas d'opération mathématique à réaliser dessus. La seule variable qui doit impérativement être numérique est le prix des produits. La date doit également être formatée."
   ]
  },
  {
   "cell_type": "code",
   "execution_count": 17,
   "id": "d701dc6a",
   "metadata": {},
   "outputs": [
    {
     "data": {
      "text/plain": [
       "id_prod               object\n",
       "date          datetime64[ns]\n",
       "session_id            object\n",
       "client_id             object\n",
       "dtype: object"
      ]
     },
     "execution_count": 17,
     "metadata": {},
     "output_type": "execute_result"
    }
   ],
   "source": [
    "transactions['date'] = pd.to_datetime(transactions['date'])\n",
    "transactions.dtypes"
   ]
  },
  {
   "cell_type": "markdown",
   "id": "d76a1848",
   "metadata": {},
   "source": [
    "#### Valeurs nulles"
   ]
  },
  {
   "cell_type": "code",
   "execution_count": 18,
   "id": "38343b42",
   "metadata": {},
   "outputs": [
    {
     "data": {
      "text/plain": [
       "client_id    0\n",
       "sex          0\n",
       "birth        0\n",
       "dtype: int64"
      ]
     },
     "execution_count": 18,
     "metadata": {},
     "output_type": "execute_result"
    }
   ],
   "source": [
    "customers.isnull().sum()"
   ]
  },
  {
   "cell_type": "code",
   "execution_count": 19,
   "id": "ea0df2d2",
   "metadata": {},
   "outputs": [
    {
     "data": {
      "text/plain": [
       "id_prod    0\n",
       "price      0\n",
       "categ      0\n",
       "dtype: int64"
      ]
     },
     "execution_count": 19,
     "metadata": {},
     "output_type": "execute_result"
    }
   ],
   "source": [
    "products.isnull().sum()"
   ]
  },
  {
   "cell_type": "code",
   "execution_count": 20,
   "id": "b68819c8",
   "metadata": {},
   "outputs": [
    {
     "data": {
      "text/plain": [
       "id_prod       0\n",
       "date          0\n",
       "session_id    0\n",
       "client_id     0\n",
       "dtype: int64"
      ]
     },
     "execution_count": 20,
     "metadata": {},
     "output_type": "execute_result"
    }
   ],
   "source": [
    "transactions.isnull().sum()"
   ]
  },
  {
   "cell_type": "markdown",
   "id": "0225ba52",
   "metadata": {},
   "source": [
    "Il n'y a aucune valeur nulle dans les données."
   ]
  },
  {
   "cell_type": "markdown",
   "id": "8d9ccd9c",
   "metadata": {},
   "source": [
    "#### Valeurs manquantes"
   ]
  },
  {
   "cell_type": "code",
   "execution_count": 21,
   "id": "fec630b1",
   "metadata": {},
   "outputs": [
    {
     "data": {
      "text/plain": [
       "client_id    0\n",
       "sex          0\n",
       "birth        0\n",
       "dtype: int64"
      ]
     },
     "execution_count": 21,
     "metadata": {},
     "output_type": "execute_result"
    }
   ],
   "source": [
    "customers.isna().sum()"
   ]
  },
  {
   "cell_type": "code",
   "execution_count": 22,
   "id": "44b254ed",
   "metadata": {},
   "outputs": [
    {
     "data": {
      "text/plain": [
       "id_prod    0\n",
       "price      0\n",
       "categ      0\n",
       "dtype: int64"
      ]
     },
     "execution_count": 22,
     "metadata": {},
     "output_type": "execute_result"
    }
   ],
   "source": [
    "products.isna().sum()"
   ]
  },
  {
   "cell_type": "code",
   "execution_count": 23,
   "id": "60f1a9e7",
   "metadata": {},
   "outputs": [
    {
     "data": {
      "text/plain": [
       "id_prod       0\n",
       "date          0\n",
       "session_id    0\n",
       "client_id     0\n",
       "dtype: int64"
      ]
     },
     "execution_count": 23,
     "metadata": {},
     "output_type": "execute_result"
    }
   ],
   "source": [
    "transactions.isna().sum()"
   ]
  },
  {
   "cell_type": "markdown",
   "id": "4b9a3df4",
   "metadata": {},
   "source": [
    "Il n'y a aucune valeur manquante dans les données."
   ]
  },
  {
   "cell_type": "markdown",
   "id": "d88fe985",
   "metadata": {},
   "source": [
    "#### Doublons"
   ]
  },
  {
   "cell_type": "code",
   "execution_count": 24,
   "id": "5f9fdba8",
   "metadata": {},
   "outputs": [
    {
     "name": "stdout",
     "output_type": "stream",
     "text": [
      "Pourcentage d'id uniques dans la table customers :  100.0 %\n"
     ]
    }
   ],
   "source": [
    "print(\"Pourcentage d'id uniques dans la table customers : \", customers['client_id'].unique().shape[0]*100 / customers.shape[0], \"%\")"
   ]
  },
  {
   "cell_type": "code",
   "execution_count": 25,
   "id": "644e8089",
   "metadata": {},
   "outputs": [
    {
     "name": "stdout",
     "output_type": "stream",
     "text": [
      "Pourcentage d'id uniques dans la table products :  100.0 %\n"
     ]
    }
   ],
   "source": [
    "print(\"Pourcentage d'id uniques dans la table products : \", products['id_prod'].unique().shape[0]*100 / products.shape[0], \"%\")"
   ]
  },
  {
   "cell_type": "markdown",
   "id": "cd85184a",
   "metadata": {},
   "source": [
    "Les tables ne contiennent pas d'id en double."
   ]
  },
  {
   "cell_type": "markdown",
   "id": "aa1f3b2b",
   "metadata": {},
   "source": [
    "### Retravail des variables"
   ]
  },
  {
   "cell_type": "markdown",
   "id": "68893c5c",
   "metadata": {},
   "source": [
    "Certaines variables (notamment l'année de naissance des clients et les dates de transactions précises à la seconde) ne sont pas utilisables ou pas pertinentes en l'état. Il faut donc retravailler ces variables pour faciliter l'étude statistique."
   ]
  },
  {
   "cell_type": "markdown",
   "id": "a13cf3dc",
   "metadata": {},
   "source": [
    "Cas de la variable birth :"
   ]
  },
  {
   "cell_type": "code",
   "execution_count": 26,
   "id": "6a068aa2",
   "metadata": {},
   "outputs": [
    {
     "data": {
      "text/html": [
       "<div>\n",
       "<style scoped>\n",
       "    .dataframe tbody tr th:only-of-type {\n",
       "        vertical-align: middle;\n",
       "    }\n",
       "\n",
       "    .dataframe tbody tr th {\n",
       "        vertical-align: top;\n",
       "    }\n",
       "\n",
       "    .dataframe thead th {\n",
       "        text-align: right;\n",
       "    }\n",
       "</style>\n",
       "<table border=\"1\" class=\"dataframe\">\n",
       "  <thead>\n",
       "    <tr style=\"text-align: right;\">\n",
       "      <th></th>\n",
       "      <th>client_id</th>\n",
       "      <th>sex</th>\n",
       "      <th>birth</th>\n",
       "      <th>age</th>\n",
       "      <th>age_range</th>\n",
       "    </tr>\n",
       "  </thead>\n",
       "  <tbody>\n",
       "    <tr>\n",
       "      <th>0</th>\n",
       "      <td>c_4410</td>\n",
       "      <td>f</td>\n",
       "      <td>1967</td>\n",
       "      <td>55</td>\n",
       "      <td>(47.0, 59.0]</td>\n",
       "    </tr>\n",
       "    <tr>\n",
       "      <th>1</th>\n",
       "      <td>c_7839</td>\n",
       "      <td>f</td>\n",
       "      <td>1975</td>\n",
       "      <td>47</td>\n",
       "      <td>(38.0, 47.0]</td>\n",
       "    </tr>\n",
       "    <tr>\n",
       "      <th>2</th>\n",
       "      <td>c_1699</td>\n",
       "      <td>f</td>\n",
       "      <td>1984</td>\n",
       "      <td>38</td>\n",
       "      <td>(27.0, 38.0]</td>\n",
       "    </tr>\n",
       "  </tbody>\n",
       "</table>\n",
       "</div>"
      ],
      "text/plain": [
       "  client_id sex  birth  age     age_range\n",
       "0    c_4410   f   1967   55  (47.0, 59.0]\n",
       "1    c_7839   f   1975   47  (38.0, 47.0]\n",
       "2    c_1699   f   1984   38  (27.0, 38.0]"
      ]
     },
     "execution_count": 26,
     "metadata": {},
     "output_type": "execute_result"
    }
   ],
   "source": [
    "customers['age'] = datetime.datetime.now().year - customers['birth']\n",
    "customers['age_range'] = pd.qcut(customers['age'].sort_values(), 5)\n",
    "customers.head(3)"
   ]
  },
  {
   "cell_type": "markdown",
   "id": "eba14f00",
   "metadata": {},
   "source": [
    "Cas de la variable date :"
   ]
  },
  {
   "cell_type": "code",
   "execution_count": 27,
   "id": "9d11bd54",
   "metadata": {},
   "outputs": [
    {
     "data": {
      "text/html": [
       "<div>\n",
       "<style scoped>\n",
       "    .dataframe tbody tr th:only-of-type {\n",
       "        vertical-align: middle;\n",
       "    }\n",
       "\n",
       "    .dataframe tbody tr th {\n",
       "        vertical-align: top;\n",
       "    }\n",
       "\n",
       "    .dataframe thead th {\n",
       "        text-align: right;\n",
       "    }\n",
       "</style>\n",
       "<table border=\"1\" class=\"dataframe\">\n",
       "  <thead>\n",
       "    <tr style=\"text-align: right;\">\n",
       "      <th></th>\n",
       "      <th>id_prod</th>\n",
       "      <th>date</th>\n",
       "      <th>session_id</th>\n",
       "      <th>client_id</th>\n",
       "      <th>month</th>\n",
       "      <th>month_year</th>\n",
       "    </tr>\n",
       "  </thead>\n",
       "  <tbody>\n",
       "    <tr>\n",
       "      <th>0</th>\n",
       "      <td>0_1518</td>\n",
       "      <td>2022-05-20</td>\n",
       "      <td>s_211425</td>\n",
       "      <td>c_103</td>\n",
       "      <td>5</td>\n",
       "      <td>2022-05</td>\n",
       "    </tr>\n",
       "    <tr>\n",
       "      <th>1</th>\n",
       "      <td>1_251</td>\n",
       "      <td>2022-02-02</td>\n",
       "      <td>s_158752</td>\n",
       "      <td>c_8534</td>\n",
       "      <td>2</td>\n",
       "      <td>2022-02</td>\n",
       "    </tr>\n",
       "    <tr>\n",
       "      <th>2</th>\n",
       "      <td>0_1277</td>\n",
       "      <td>2022-06-18</td>\n",
       "      <td>s_225667</td>\n",
       "      <td>c_6714</td>\n",
       "      <td>6</td>\n",
       "      <td>2022-06</td>\n",
       "    </tr>\n",
       "  </tbody>\n",
       "</table>\n",
       "</div>"
      ],
      "text/plain": [
       "  id_prod       date session_id client_id  month month_year\n",
       "0  0_1518 2022-05-20   s_211425     c_103      5    2022-05\n",
       "1   1_251 2022-02-02   s_158752    c_8534      2    2022-02\n",
       "2  0_1277 2022-06-18   s_225667    c_6714      6    2022-06"
      ]
     },
     "execution_count": 27,
     "metadata": {},
     "output_type": "execute_result"
    }
   ],
   "source": [
    "transactions['date'] = transactions['date'].dt.date\n",
    "transactions['date'] = pd.to_datetime(transactions['date'], format='%Y-%m-%d')\n",
    "transactions['month'] = transactions['date'].dt.month\n",
    "transactions['month_year'] = transactions['date'].dt.strftime('%Y-%m')\n",
    "transactions.head(3)"
   ]
  },
  {
   "cell_type": "markdown",
   "id": "10ae311c",
   "metadata": {},
   "source": [
    "### Fusion des tables"
   ]
  },
  {
   "cell_type": "code",
   "execution_count": 28,
   "id": "950a032a",
   "metadata": {},
   "outputs": [
    {
     "data": {
      "text/html": [
       "<div>\n",
       "<style scoped>\n",
       "    .dataframe tbody tr th:only-of-type {\n",
       "        vertical-align: middle;\n",
       "    }\n",
       "\n",
       "    .dataframe tbody tr th {\n",
       "        vertical-align: top;\n",
       "    }\n",
       "\n",
       "    .dataframe thead th {\n",
       "        text-align: right;\n",
       "    }\n",
       "</style>\n",
       "<table border=\"1\" class=\"dataframe\">\n",
       "  <thead>\n",
       "    <tr style=\"text-align: right;\">\n",
       "      <th></th>\n",
       "      <th>client_id</th>\n",
       "      <th>sex</th>\n",
       "      <th>birth</th>\n",
       "      <th>age</th>\n",
       "      <th>age_range</th>\n",
       "      <th>id_prod</th>\n",
       "      <th>date</th>\n",
       "      <th>session_id</th>\n",
       "      <th>month</th>\n",
       "      <th>month_year</th>\n",
       "    </tr>\n",
       "  </thead>\n",
       "  <tbody>\n",
       "    <tr>\n",
       "      <th>0</th>\n",
       "      <td>c_4410</td>\n",
       "      <td>f</td>\n",
       "      <td>1967</td>\n",
       "      <td>55</td>\n",
       "      <td>(47.0, 59.0]</td>\n",
       "      <td>0_1316</td>\n",
       "      <td>2021-12-29</td>\n",
       "      <td>s_141762</td>\n",
       "      <td>12.0</td>\n",
       "      <td>2021-12</td>\n",
       "    </tr>\n",
       "    <tr>\n",
       "      <th>1</th>\n",
       "      <td>c_4410</td>\n",
       "      <td>f</td>\n",
       "      <td>1967</td>\n",
       "      <td>55</td>\n",
       "      <td>(47.0, 59.0]</td>\n",
       "      <td>1_385</td>\n",
       "      <td>2021-03-22</td>\n",
       "      <td>s_9707</td>\n",
       "      <td>3.0</td>\n",
       "      <td>2021-03</td>\n",
       "    </tr>\n",
       "    <tr>\n",
       "      <th>2</th>\n",
       "      <td>c_4410</td>\n",
       "      <td>f</td>\n",
       "      <td>1967</td>\n",
       "      <td>55</td>\n",
       "      <td>(47.0, 59.0]</td>\n",
       "      <td>1_190</td>\n",
       "      <td>2021-11-12</td>\n",
       "      <td>s_118628</td>\n",
       "      <td>11.0</td>\n",
       "      <td>2021-11</td>\n",
       "    </tr>\n",
       "  </tbody>\n",
       "</table>\n",
       "</div>"
      ],
      "text/plain": [
       "  client_id sex  birth  age     age_range id_prod       date session_id  \\\n",
       "0    c_4410   f   1967   55  (47.0, 59.0]  0_1316 2021-12-29   s_141762   \n",
       "1    c_4410   f   1967   55  (47.0, 59.0]   1_385 2021-03-22     s_9707   \n",
       "2    c_4410   f   1967   55  (47.0, 59.0]   1_190 2021-11-12   s_118628   \n",
       "\n",
       "   month month_year  \n",
       "0   12.0    2021-12  \n",
       "1    3.0    2021-03  \n",
       "2   11.0    2021-11  "
      ]
     },
     "execution_count": 28,
     "metadata": {},
     "output_type": "execute_result"
    }
   ],
   "source": [
    "customers_transactions = pd.merge(customers, transactions, on=\"client_id\", how=\"outer\")\n",
    "customers_transactions.head(3)"
   ]
  },
  {
   "cell_type": "markdown",
   "id": "8325dfe7",
   "metadata": {},
   "source": [
    "Cette table présente chaque achat de chaque client (+ les clients qui n'ont rien acheté)."
   ]
  },
  {
   "cell_type": "code",
   "execution_count": 29,
   "id": "bb1b1947",
   "metadata": {},
   "outputs": [
    {
     "data": {
      "text/html": [
       "<div>\n",
       "<style scoped>\n",
       "    .dataframe tbody tr th:only-of-type {\n",
       "        vertical-align: middle;\n",
       "    }\n",
       "\n",
       "    .dataframe tbody tr th {\n",
       "        vertical-align: top;\n",
       "    }\n",
       "\n",
       "    .dataframe thead th {\n",
       "        text-align: right;\n",
       "    }\n",
       "</style>\n",
       "<table border=\"1\" class=\"dataframe\">\n",
       "  <thead>\n",
       "    <tr style=\"text-align: right;\">\n",
       "      <th></th>\n",
       "      <th>id_prod</th>\n",
       "      <th>date</th>\n",
       "      <th>session_id</th>\n",
       "      <th>client_id</th>\n",
       "      <th>month</th>\n",
       "      <th>month_year</th>\n",
       "      <th>price</th>\n",
       "      <th>categ</th>\n",
       "    </tr>\n",
       "  </thead>\n",
       "  <tbody>\n",
       "    <tr>\n",
       "      <th>0</th>\n",
       "      <td>0_1518</td>\n",
       "      <td>2022-05-20</td>\n",
       "      <td>s_211425</td>\n",
       "      <td>c_103</td>\n",
       "      <td>5.0</td>\n",
       "      <td>2022-05</td>\n",
       "      <td>4.18</td>\n",
       "      <td>0.0</td>\n",
       "    </tr>\n",
       "    <tr>\n",
       "      <th>1</th>\n",
       "      <td>0_1518</td>\n",
       "      <td>2021-09-26</td>\n",
       "      <td>s_95811</td>\n",
       "      <td>c_6197</td>\n",
       "      <td>9.0</td>\n",
       "      <td>2021-09</td>\n",
       "      <td>4.18</td>\n",
       "      <td>0.0</td>\n",
       "    </tr>\n",
       "    <tr>\n",
       "      <th>2</th>\n",
       "      <td>0_1518</td>\n",
       "      <td>2021-05-06</td>\n",
       "      <td>s_30782</td>\n",
       "      <td>c_682</td>\n",
       "      <td>5.0</td>\n",
       "      <td>2021-05</td>\n",
       "      <td>4.18</td>\n",
       "      <td>0.0</td>\n",
       "    </tr>\n",
       "  </tbody>\n",
       "</table>\n",
       "</div>"
      ],
      "text/plain": [
       "  id_prod       date session_id client_id  month month_year  price  categ\n",
       "0  0_1518 2022-05-20   s_211425     c_103    5.0    2022-05   4.18    0.0\n",
       "1  0_1518 2021-09-26    s_95811    c_6197    9.0    2021-09   4.18    0.0\n",
       "2  0_1518 2021-05-06    s_30782     c_682    5.0    2021-05   4.18    0.0"
      ]
     },
     "execution_count": 29,
     "metadata": {},
     "output_type": "execute_result"
    }
   ],
   "source": [
    "products_transactions = pd.merge(transactions, products, on=\"id_prod\", how=\"outer\").fillna(value = {'client_id' : 0})\n",
    "products_transactions.head(3)"
   ]
  },
  {
   "cell_type": "markdown",
   "id": "10b94fbf",
   "metadata": {},
   "source": [
    "Celle-ci montre chaque vente de chaque produit (+ les produits qui n'ont pas été vendus)."
   ]
  },
  {
   "cell_type": "markdown",
   "id": "467e9128",
   "metadata": {},
   "source": [
    "On réalise des jointures externes pour ne pas perdre d'information."
   ]
  },
  {
   "cell_type": "code",
   "execution_count": 30,
   "id": "a1f81974",
   "metadata": {},
   "outputs": [
    {
     "name": "stdout",
     "output_type": "stream",
     "text": [
      "Il y a  221  valeurs de prix et  221 valeurs de catégorie manquantes parmi les produits vendus.\n"
     ]
    }
   ],
   "source": [
    "print(\"Il y a \", products_transactions['price'].isnull().sum(), \" valeurs de prix et \", products_transactions['categ'].isnull().sum(), \"valeurs de catégorie manquantes parmi les produits vendus.\")"
   ]
  },
  {
   "cell_type": "code",
   "execution_count": 31,
   "id": "411e7cd1",
   "metadata": {},
   "outputs": [
    {
     "name": "stdout",
     "output_type": "stream",
     "text": [
      "Ces ventes concernent :  1  produit(s).\n"
     ]
    }
   ],
   "source": [
    "print(\"Ces ventes concernent : \", products_transactions[products_transactions['price'].isnull()]['id_prod'].unique().shape[0], \" produit(s).\")"
   ]
  },
  {
   "cell_type": "markdown",
   "id": "a7050f23",
   "metadata": {},
   "source": [
    "Nous allons récupérer l'id de ce produit, et remplir sa valeur de prix par la médiane et de catégorie par la valeur la plus représentée."
   ]
  },
  {
   "cell_type": "code",
   "execution_count": 32,
   "id": "2089a589",
   "metadata": {},
   "outputs": [
    {
     "data": {
      "text/plain": [
       "id_prod    0_2245\n",
       "price      13.075\n",
       "categ           0\n",
       "Name: 3286, dtype: object"
      ]
     },
     "execution_count": 32,
     "metadata": {},
     "output_type": "execute_result"
    }
   ],
   "source": [
    "id_prod_manquant = products_transactions[products_transactions['price'].isnull()]['id_prod'].unique()[0]\n",
    "products.loc[len(products.index)] = [id_prod_manquant, products['price'].median(), 0]\n",
    "products.loc[len(products.index)]"
   ]
  },
  {
   "cell_type": "markdown",
   "id": "b1df04b9",
   "metadata": {},
   "source": [
    "### Calcul du chiffre d'affaires"
   ]
  },
  {
   "cell_type": "markdown",
   "id": "92f6357f",
   "metadata": {},
   "source": [
    "On va déterminer le chiffre d'affaires par date, en calculant la somme des prix sur un dataframe regroupé par date. Si un produit est vendu plusieurs fois à la même date, cela va naturellement multiplier son prix par le nombre de ventes."
   ]
  },
  {
   "cell_type": "code",
   "execution_count": 33,
   "id": "ddb580b1",
   "metadata": {},
   "outputs": [
    {
     "data": {
      "text/html": [
       "<div>\n",
       "<style scoped>\n",
       "    .dataframe tbody tr th:only-of-type {\n",
       "        vertical-align: middle;\n",
       "    }\n",
       "\n",
       "    .dataframe tbody tr th {\n",
       "        vertical-align: top;\n",
       "    }\n",
       "\n",
       "    .dataframe thead th {\n",
       "        text-align: right;\n",
       "    }\n",
       "</style>\n",
       "<table border=\"1\" class=\"dataframe\">\n",
       "  <thead>\n",
       "    <tr style=\"text-align: right;\">\n",
       "      <th></th>\n",
       "      <th>CA</th>\n",
       "    </tr>\n",
       "    <tr>\n",
       "      <th>month_year</th>\n",
       "      <th></th>\n",
       "    </tr>\n",
       "  </thead>\n",
       "  <tbody>\n",
       "    <tr>\n",
       "      <th>2021-03</th>\n",
       "      <td>482440.61</td>\n",
       "    </tr>\n",
       "    <tr>\n",
       "      <th>2021-04</th>\n",
       "      <td>476109.30</td>\n",
       "    </tr>\n",
       "    <tr>\n",
       "      <th>2021-05</th>\n",
       "      <td>492943.47</td>\n",
       "    </tr>\n",
       "  </tbody>\n",
       "</table>\n",
       "</div>"
      ],
      "text/plain": [
       "                   CA\n",
       "month_year           \n",
       "2021-03     482440.61\n",
       "2021-04     476109.30\n",
       "2021-05     492943.47"
      ]
     },
     "execution_count": 33,
     "metadata": {},
     "output_type": "execute_result"
    }
   ],
   "source": [
    "tmp = products_transactions.groupby('month_year')['price'].agg(np.sum)\n",
    "CA_par_date = pd.DataFrame(tmp).rename(columns = {'price' : 'CA'})\n",
    "CA_par_date = pd.merge(products_transactions, CA_par_date, on=\"month_year\")[['month_year', 'month', 'CA']]\n",
    "CA_par_date.sort_values(by=\"month_year\", inplace=True)\n",
    "CA_par_mois = CA_par_date.groupby('month')['CA'].agg(np.mean).to_frame()\n",
    "CA_par_date = CA_par_date.groupby('month_year')['CA'].agg(np.mean).to_frame()\n",
    "CA_par_date.head(3)"
   ]
  },
  {
   "cell_type": "code",
   "execution_count": 34,
   "id": "619c56c7",
   "metadata": {},
   "outputs": [
    {
     "name": "stdout",
     "output_type": "stream",
     "text": [
      "Et le chiffre d'affaires total réalisé sur cette période est de :  11853728.68 euros.\n"
     ]
    }
   ],
   "source": [
    "print(\"Et le chiffre d'affaires total réalisé sur cette période est de : \", CA_par_date['CA'].sum(), \"euros.\")"
   ]
  },
  {
   "cell_type": "markdown",
   "id": "31acd98c",
   "metadata": {},
   "source": [
    "### Evolution temporelle du CA"
   ]
  },
  {
   "cell_type": "markdown",
   "id": "7119828d",
   "metadata": {},
   "source": [
    "Nous allons maintenant analyser l'évolution temporelle du chiffre d'affaires."
   ]
  },
  {
   "cell_type": "code",
   "execution_count": 35,
   "id": "ceb3ab74",
   "metadata": {},
   "outputs": [
    {
     "data": {
      "image/png": "[encoded data removed]",
      "text/plain": [
       "<Figure size 2160x720 with 1 Axes>"
      ]
     },
     "metadata": {},
     "output_type": "display_data"
    }
   ],
   "source": [
    "sns.set(rc={\"figure.figsize\":(30, 10)})\n",
    "sns.lineplot(data = CA_par_date, y = 'CA', x = 'month_year')\n",
    "plt.title(\"Evolution du chiffre d'affaires entre mars 2021 et février 2023\")\n",
    "plt.show()"
   ]
  },
  {
   "cell_type": "markdown",
   "id": "6abc0365",
   "metadata": {},
   "source": [
    "On remarque une baisse importante du CA sur le mois d'octobre 2021, et une tendance relativement stable le reste du temps. Une baisse se dessine également sur le dernier mois."
   ]
  },
  {
   "cell_type": "markdown",
   "id": "d40f7813",
   "metadata": {},
   "source": [
    "Intéressons-nous à ce qui s'est passé au mois d'octobre 2021 :"
   ]
  },
  {
   "cell_type": "code",
   "execution_count": 82,
   "id": "c5611c0a",
   "metadata": {},
   "outputs": [
    {
     "data": {
      "text/html": [
       "<div>\n",
       "<style scoped>\n",
       "    .dataframe tbody tr th:only-of-type {\n",
       "        vertical-align: middle;\n",
       "    }\n",
       "\n",
       "    .dataframe tbody tr th {\n",
       "        vertical-align: top;\n",
       "    }\n",
       "\n",
       "    .dataframe thead th {\n",
       "        text-align: right;\n",
       "    }\n",
       "</style>\n",
       "<table border=\"1\" class=\"dataframe\">\n",
       "  <thead>\n",
       "    <tr style=\"text-align: right;\">\n",
       "      <th></th>\n",
       "      <th>month_year</th>\n",
       "      <th>CA</th>\n",
       "      <th>RM3</th>\n",
       "      <th>RM6</th>\n",
       "    </tr>\n",
       "  </thead>\n",
       "  <tbody>\n",
       "    <tr>\n",
       "      <th>0</th>\n",
       "      <td>2021-03</td>\n",
       "      <td>482440.61</td>\n",
       "      <td>NaN</td>\n",
       "      <td>NaN</td>\n",
       "    </tr>\n",
       "    <tr>\n",
       "      <th>1</th>\n",
       "      <td>2021-04</td>\n",
       "      <td>476109.30</td>\n",
       "      <td>NaN</td>\n",
       "      <td>NaN</td>\n",
       "    </tr>\n",
       "    <tr>\n",
       "      <th>2</th>\n",
       "      <td>2021-05</td>\n",
       "      <td>492943.47</td>\n",
       "      <td>483831.126667</td>\n",
       "      <td>NaN</td>\n",
       "    </tr>\n",
       "    <tr>\n",
       "      <th>3</th>\n",
       "      <td>2021-06</td>\n",
       "      <td>484088.56</td>\n",
       "      <td>484380.443333</td>\n",
       "      <td>NaN</td>\n",
       "    </tr>\n",
       "    <tr>\n",
       "      <th>4</th>\n",
       "      <td>2021-07</td>\n",
       "      <td>482835.40</td>\n",
       "      <td>486622.476667</td>\n",
       "      <td>NaN</td>\n",
       "    </tr>\n",
       "    <tr>\n",
       "      <th>5</th>\n",
       "      <td>2021-08</td>\n",
       "      <td>482284.79</td>\n",
       "      <td>483069.583333</td>\n",
       "      <td>483450.355000</td>\n",
       "    </tr>\n",
       "    <tr>\n",
       "      <th>6</th>\n",
       "      <td>2021-09</td>\n",
       "      <td>507240.68</td>\n",
       "      <td>490786.956667</td>\n",
       "      <td>487583.700000</td>\n",
       "    </tr>\n",
       "    <tr>\n",
       "      <th>7</th>\n",
       "      <td>2021-10</td>\n",
       "      <td>320798.74</td>\n",
       "      <td>436774.736667</td>\n",
       "      <td>461698.606667</td>\n",
       "    </tr>\n",
       "    <tr>\n",
       "      <th>8</th>\n",
       "      <td>2021-11</td>\n",
       "      <td>516167.73</td>\n",
       "      <td>448069.050000</td>\n",
       "      <td>465569.316667</td>\n",
       "    </tr>\n",
       "    <tr>\n",
       "      <th>9</th>\n",
       "      <td>2021-12</td>\n",
       "      <td>525917.28</td>\n",
       "      <td>454294.583333</td>\n",
       "      <td>472540.770000</td>\n",
       "    </tr>\n",
       "    <tr>\n",
       "      <th>10</th>\n",
       "      <td>2022-01</td>\n",
       "      <td>525338.99</td>\n",
       "      <td>522474.666667</td>\n",
       "      <td>479624.701667</td>\n",
       "    </tr>\n",
       "    <tr>\n",
       "      <th>11</th>\n",
       "      <td>2022-02</td>\n",
       "      <td>535571.50</td>\n",
       "      <td>528942.590000</td>\n",
       "      <td>488505.820000</td>\n",
       "    </tr>\n",
       "    <tr>\n",
       "      <th>12</th>\n",
       "      <td>2022-03</td>\n",
       "      <td>515456.53</td>\n",
       "      <td>525455.673333</td>\n",
       "      <td>489875.128333</td>\n",
       "    </tr>\n",
       "    <tr>\n",
       "      <th>13</th>\n",
       "      <td>2022-04</td>\n",
       "      <td>492998.94</td>\n",
       "      <td>514675.656667</td>\n",
       "      <td>518575.161667</td>\n",
       "    </tr>\n",
       "    <tr>\n",
       "      <th>14</th>\n",
       "      <td>2022-05</td>\n",
       "      <td>517132.60</td>\n",
       "      <td>508529.356667</td>\n",
       "      <td>518735.973333</td>\n",
       "    </tr>\n",
       "    <tr>\n",
       "      <th>15</th>\n",
       "      <td>2022-06</td>\n",
       "      <td>496016.12</td>\n",
       "      <td>502049.220000</td>\n",
       "      <td>513752.446667</td>\n",
       "    </tr>\n",
       "    <tr>\n",
       "      <th>16</th>\n",
       "      <td>2022-07</td>\n",
       "      <td>510783.12</td>\n",
       "      <td>507977.280000</td>\n",
       "      <td>511326.468333</td>\n",
       "    </tr>\n",
       "    <tr>\n",
       "      <th>17</th>\n",
       "      <td>2022-08</td>\n",
       "      <td>506467.27</td>\n",
       "      <td>504422.170000</td>\n",
       "      <td>506475.763333</td>\n",
       "    </tr>\n",
       "    <tr>\n",
       "      <th>18</th>\n",
       "      <td>2022-09</td>\n",
       "      <td>494114.53</td>\n",
       "      <td>503788.306667</td>\n",
       "      <td>502918.763333</td>\n",
       "    </tr>\n",
       "    <tr>\n",
       "      <th>19</th>\n",
       "      <td>2022-10</td>\n",
       "      <td>507917.77</td>\n",
       "      <td>502833.190000</td>\n",
       "      <td>505405.235000</td>\n",
       "    </tr>\n",
       "    <tr>\n",
       "      <th>20</th>\n",
       "      <td>2022-11</td>\n",
       "      <td>496664.94</td>\n",
       "      <td>499565.746667</td>\n",
       "      <td>501993.958333</td>\n",
       "    </tr>\n",
       "    <tr>\n",
       "      <th>21</th>\n",
       "      <td>2022-12</td>\n",
       "      <td>510219.50</td>\n",
       "      <td>504934.070000</td>\n",
       "      <td>504361.188333</td>\n",
       "    </tr>\n",
       "    <tr>\n",
       "      <th>22</th>\n",
       "      <td>2023-01</td>\n",
       "      <td>517540.55</td>\n",
       "      <td>508141.663333</td>\n",
       "      <td>505487.426667</td>\n",
       "    </tr>\n",
       "    <tr>\n",
       "      <th>23</th>\n",
       "      <td>2023-02</td>\n",
       "      <td>456679.76</td>\n",
       "      <td>494813.270000</td>\n",
       "      <td>497189.508333</td>\n",
       "    </tr>\n",
       "  </tbody>\n",
       "</table>\n",
       "</div>"
      ],
      "text/plain": [
       "   month_year         CA            RM3            RM6\n",
       "0     2021-03  482440.61            NaN            NaN\n",
       "1     2021-04  476109.30            NaN            NaN\n",
       "2     2021-05  492943.47  483831.126667            NaN\n",
       "3     2021-06  484088.56  484380.443333            NaN\n",
       "4     2021-07  482835.40  486622.476667            NaN\n",
       "5     2021-08  482284.79  483069.583333  483450.355000\n",
       "6     2021-09  507240.68  490786.956667  487583.700000\n",
       "7     2021-10  320798.74  436774.736667  461698.606667\n",
       "8     2021-11  516167.73  448069.050000  465569.316667\n",
       "9     2021-12  525917.28  454294.583333  472540.770000\n",
       "10    2022-01  525338.99  522474.666667  479624.701667\n",
       "11    2022-02  535571.50  528942.590000  488505.820000\n",
       "12    2022-03  515456.53  525455.673333  489875.128333\n",
       "13    2022-04  492998.94  514675.656667  518575.161667\n",
       "14    2022-05  517132.60  508529.356667  518735.973333\n",
       "15    2022-06  496016.12  502049.220000  513752.446667\n",
       "16    2022-07  510783.12  507977.280000  511326.468333\n",
       "17    2022-08  506467.27  504422.170000  506475.763333\n",
       "18    2022-09  494114.53  503788.306667  502918.763333\n",
       "19    2022-10  507917.77  502833.190000  505405.235000\n",
       "20    2022-11  496664.94  499565.746667  501993.958333\n",
       "21    2022-12  510219.50  504934.070000  504361.188333\n",
       "22    2023-01  517540.55  508141.663333  505487.426667\n",
       "23    2023-02  456679.76  494813.270000  497189.508333"
      ]
     },
     "execution_count": 82,
     "metadata": {},
     "output_type": "execute_result"
    }
   ],
   "source": [
    "CA_par_date.reset_index(inplace=True)\n",
    "CA_par_date.head(3)"
   ]
  },
  {
   "cell_type": "code",
   "execution_count": 83,
   "id": "b6e2e6a6",
   "metadata": {},
   "outputs": [
    {
     "data": {
      "text/plain": [
       "categ\n",
       "0.0    18762\n",
       "1.0     1666\n",
       "2.0     1171\n",
       "Name: categ, dtype: int64"
      ]
     },
     "execution_count": 83,
     "metadata": {},
     "output_type": "execute_result"
    }
   ],
   "source": [
    "tmp = pd.merge(CA_par_date, products_transactions, on=\"month_year\")\n",
    "oct_21_categ_count = tmp[tmp['month_year'] == '2021-10'].groupby('categ')['categ'].count()\n",
    "oct_21_categ_count"
   ]
  },
  {
   "cell_type": "code",
   "execution_count": 84,
   "id": "132d4973",
   "metadata": {},
   "outputs": [
    {
     "data": {
      "image/png": "[encoded data removed]",
      "text/plain": [
       "<Figure size 720x360 with 1 Axes>"
      ]
     },
     "metadata": {},
     "output_type": "display_data"
    }
   ],
   "source": [
    "plt.pie(np.array(oct_21_categ_count), labels = ['0', '1', '2'], autopct = '%.2f')\n",
    "plt.title(\"Produits vendus en octobre 2021 répartis par catégorie\")\n",
    "plt.show()"
   ]
  },
  {
   "cell_type": "markdown",
   "id": "d656cd04",
   "metadata": {},
   "source": [
    "En mettant en perspective ce graphique et celui de la répartition du chiffre d'affaires par catégorie ci-après, on observe que la répartition est similaire ce mois-ci comparé à la tendance globale. Ainsi, on peut en déduire que la baisse de ce mois-ci n'est pas due à une rupture de stock, par exemple (ce qui aurait pu être le cas si une catégorie qui génère habituellement beaucoup de chiffre d'affaires était à un faible pourcentage), mais simplement à une baisse des ventes générale."
   ]
  },
  {
   "cell_type": "markdown",
   "id": "45bea7d2",
   "metadata": {},
   "source": [
    "Analysons la tendance au sein d'une année :"
   ]
  },
  {
   "cell_type": "code",
   "execution_count": 39,
   "id": "e65f3e2d",
   "metadata": {},
   "outputs": [
    {
     "data": {
      "image/png": "[encoded data removed]",
      "text/plain": [
       "<Figure size 2160x720 with 1 Axes>"
      ]
     },
     "metadata": {},
     "output_type": "display_data"
    }
   ],
   "source": [
    "sns.lineplot(data = CA_par_mois, y = 'CA', x = 'month')\n",
    "plt.title(\"Evolution du chiffre d'affaires sur une année-type\")\n",
    "plt.show()"
   ]
  },
  {
   "cell_type": "markdown",
   "id": "a346e51e",
   "metadata": {},
   "source": [
    "D'une manière plus globale, le mois d'octobre semble être un mois creux (mais le pic est biaisé par le mois d'octobre 2021 qui était particulièrement creux) et les mois les plus rentables sont janvier et décembre, pendant les fêtes de fin d'année."
   ]
  },
  {
   "cell_type": "markdown",
   "id": "dc281ebb",
   "metadata": {},
   "source": [
    "Nous allons utiliser la décomposition en moyenne mobile (sur 3 et 6 mois) pour avoir une tendance plus globale du chiffre d'affaires :"
   ]
  },
  {
   "cell_type": "code",
   "execution_count": 40,
   "id": "c2a46714",
   "metadata": {},
   "outputs": [],
   "source": [
    "CA_par_date['RM3'] = CA_par_date['CA'].rolling(3).mean()\n",
    "CA_par_date['RM6'] = CA_par_date['CA'].rolling(6).mean()"
   ]
  },
  {
   "cell_type": "code",
   "execution_count": 85,
   "id": "c64f64c8",
   "metadata": {
    "scrolled": true
   },
   "outputs": [
    {
     "data": {
      "image/png": "[encoded data removed]",
      "text/plain": [
       "<Figure size 720x360 with 1 Axes>"
      ]
     },
     "metadata": {},
     "output_type": "display_data"
    }
   ],
   "source": [
    "sns.lineplot(data = CA_par_date)\n",
    "plt.title(\"Décomposition en moyenne mobile du chiffre d'affaires sur 3 et 6 mois\")\n",
    "plt.show()"
   ]
  },
  {
   "cell_type": "markdown",
   "id": "dc798ba8",
   "metadata": {},
   "source": [
    "La décomposition en moyennes mobiles permet d'observer une tendance plus globale du chiffre d'affaires, moins influencée par le bruit (c'est-à-dire les variations non significatives). Ainsi, on voit une tendance globale du chiffre d'affaires relativement stable, qui avoisine les 500 000 euros."
   ]
  },
  {
   "cell_type": "markdown",
   "id": "c7a8a78e",
   "metadata": {},
   "source": [
    "### Zoom sur les références"
   ]
  },
  {
   "cell_type": "markdown",
   "id": "46cf694e",
   "metadata": {},
   "source": [
    "Nous allons avoir besoin d'un dataframe qui calcule le chiffre d'affaires par produit."
   ]
  },
  {
   "cell_type": "code",
   "execution_count": 42,
   "id": "8be5668f",
   "metadata": {
    "scrolled": true
   },
   "outputs": [
    {
     "data": {
      "text/html": [
       "<div>\n",
       "<style scoped>\n",
       "    .dataframe tbody tr th:only-of-type {\n",
       "        vertical-align: middle;\n",
       "    }\n",
       "\n",
       "    .dataframe tbody tr th {\n",
       "        vertical-align: top;\n",
       "    }\n",
       "\n",
       "    .dataframe thead th {\n",
       "        text-align: right;\n",
       "    }\n",
       "</style>\n",
       "<table border=\"1\" class=\"dataframe\">\n",
       "  <thead>\n",
       "    <tr style=\"text-align: right;\">\n",
       "      <th></th>\n",
       "      <th>id_prod</th>\n",
       "      <th>total_sales</th>\n",
       "      <th>price</th>\n",
       "      <th>categ</th>\n",
       "      <th>CA</th>\n",
       "    </tr>\n",
       "  </thead>\n",
       "  <tbody>\n",
       "    <tr>\n",
       "      <th>595</th>\n",
       "      <td>0_1539</td>\n",
       "      <td>1</td>\n",
       "      <td>0.99</td>\n",
       "      <td>0</td>\n",
       "      <td>0.99</td>\n",
       "    </tr>\n",
       "    <tr>\n",
       "      <th>313</th>\n",
       "      <td>0_1284</td>\n",
       "      <td>1</td>\n",
       "      <td>1.38</td>\n",
       "      <td>0</td>\n",
       "      <td>1.38</td>\n",
       "    </tr>\n",
       "    <tr>\n",
       "      <th>719</th>\n",
       "      <td>0_1653</td>\n",
       "      <td>2</td>\n",
       "      <td>0.99</td>\n",
       "      <td>0</td>\n",
       "      <td>1.98</td>\n",
       "    </tr>\n",
       "  </tbody>\n",
       "</table>\n",
       "</div>"
      ],
      "text/plain": [
       "    id_prod  total_sales  price  categ    CA\n",
       "595  0_1539            1   0.99      0  0.99\n",
       "313  0_1284            1   1.38      0  1.38\n",
       "719  0_1653            2   0.99      0  1.98"
      ]
     },
     "execution_count": 42,
     "metadata": {},
     "output_type": "execute_result"
    }
   ],
   "source": [
    "tmp = products_transactions[products_transactions['client_id'] != 0].groupby('id_prod')['id_prod'].count()\n",
    "ventes_par_produit = pd.DataFrame(tmp).rename(columns = {'id_prod' : 'total_sales'})\n",
    "tmp = products[['id_prod', 'price', 'categ']]\n",
    "CA_par_produit = pd.merge(ventes_par_produit, tmp, on=\"id_prod\")\n",
    "CA_par_produit['CA'] = CA_par_produit['price'] * CA_par_produit['total_sales']\n",
    "CA_par_produit.sort_values(by=\"CA\", inplace=True)\n",
    "CA_par_produit.head(3)"
   ]
  },
  {
   "cell_type": "markdown",
   "id": "1f4f9f31",
   "metadata": {},
   "source": [
    "### Répartition du chiffre d'affaires par produit"
   ]
  },
  {
   "cell_type": "markdown",
   "id": "974147e0",
   "metadata": {},
   "source": [
    "Nous allons analyser la répartition du chiffre d'affaires entre les différents produits à l'aide d'une courbe de Lorenz :"
   ]
  },
  {
   "cell_type": "code",
   "execution_count": 43,
   "id": "c1590662",
   "metadata": {},
   "outputs": [
    {
     "data": {
      "text/html": [
       "<div>\n",
       "<style scoped>\n",
       "    .dataframe tbody tr th:only-of-type {\n",
       "        vertical-align: middle;\n",
       "    }\n",
       "\n",
       "    .dataframe tbody tr th {\n",
       "        vertical-align: top;\n",
       "    }\n",
       "\n",
       "    .dataframe thead th {\n",
       "        text-align: right;\n",
       "    }\n",
       "</style>\n",
       "<table border=\"1\" class=\"dataframe\">\n",
       "  <thead>\n",
       "    <tr style=\"text-align: right;\">\n",
       "      <th></th>\n",
       "      <th>id_prod</th>\n",
       "      <th>total_sales</th>\n",
       "      <th>price</th>\n",
       "      <th>categ</th>\n",
       "      <th>CA</th>\n",
       "      <th>CA_cum</th>\n",
       "    </tr>\n",
       "  </thead>\n",
       "  <tbody>\n",
       "    <tr>\n",
       "      <th>595</th>\n",
       "      <td>0_1539</td>\n",
       "      <td>1</td>\n",
       "      <td>0.99</td>\n",
       "      <td>0</td>\n",
       "      <td>0.99</td>\n",
       "      <td>8.349838e-08</td>\n",
       "    </tr>\n",
       "    <tr>\n",
       "      <th>313</th>\n",
       "      <td>0_1284</td>\n",
       "      <td>1</td>\n",
       "      <td>1.38</td>\n",
       "      <td>0</td>\n",
       "      <td>1.38</td>\n",
       "      <td>1.998901e-07</td>\n",
       "    </tr>\n",
       "    <tr>\n",
       "      <th>719</th>\n",
       "      <td>0_1653</td>\n",
       "      <td>2</td>\n",
       "      <td>0.99</td>\n",
       "      <td>0</td>\n",
       "      <td>1.98</td>\n",
       "      <td>3.668868e-07</td>\n",
       "    </tr>\n",
       "    <tr>\n",
       "      <th>2079</th>\n",
       "      <td>0_807</td>\n",
       "      <td>1</td>\n",
       "      <td>1.99</td>\n",
       "      <td>0</td>\n",
       "      <td>1.99</td>\n",
       "      <td>5.347270e-07</td>\n",
       "    </tr>\n",
       "    <tr>\n",
       "      <th>665</th>\n",
       "      <td>0_1601</td>\n",
       "      <td>1</td>\n",
       "      <td>1.99</td>\n",
       "      <td>0</td>\n",
       "      <td>1.99</td>\n",
       "      <td>7.025672e-07</td>\n",
       "    </tr>\n",
       "    <tr>\n",
       "      <th>...</th>\n",
       "      <td>...</td>\n",
       "      <td>...</td>\n",
       "      <td>...</td>\n",
       "      <td>...</td>\n",
       "      <td>...</td>\n",
       "      <td>...</td>\n",
       "    </tr>\n",
       "    <tr>\n",
       "      <th>3152</th>\n",
       "      <td>2_209</td>\n",
       "      <td>814</td>\n",
       "      <td>69.99</td>\n",
       "      <td>2</td>\n",
       "      <td>56971.86</td>\n",
       "      <td>9.755094e-01</td>\n",
       "    </tr>\n",
       "    <tr>\n",
       "      <th>3034</th>\n",
       "      <td>2_102</td>\n",
       "      <td>1027</td>\n",
       "      <td>59.14</td>\n",
       "      <td>2</td>\n",
       "      <td>60736.78</td>\n",
       "      <td>9.806321e-01</td>\n",
       "    </tr>\n",
       "    <tr>\n",
       "      <th>3045</th>\n",
       "      <td>2_112</td>\n",
       "      <td>968</td>\n",
       "      <td>67.57</td>\n",
       "      <td>2</td>\n",
       "      <td>65407.76</td>\n",
       "      <td>9.861487e-01</td>\n",
       "    </tr>\n",
       "    <tr>\n",
       "      <th>3070</th>\n",
       "      <td>2_135</td>\n",
       "      <td>1005</td>\n",
       "      <td>68.99</td>\n",
       "      <td>2</td>\n",
       "      <td>69334.95</td>\n",
       "      <td>9.919965e-01</td>\n",
       "    </tr>\n",
       "    <tr>\n",
       "      <th>3096</th>\n",
       "      <td>2_159</td>\n",
       "      <td>650</td>\n",
       "      <td>145.99</td>\n",
       "      <td>2</td>\n",
       "      <td>94893.50</td>\n",
       "      <td>1.000000e+00</td>\n",
       "    </tr>\n",
       "  </tbody>\n",
       "</table>\n",
       "<p>3265 rows × 6 columns</p>\n",
       "</div>"
      ],
      "text/plain": [
       "     id_prod  total_sales   price  categ        CA        CA_cum\n",
       "595   0_1539            1    0.99      0      0.99  8.349838e-08\n",
       "313   0_1284            1    1.38      0      1.38  1.998901e-07\n",
       "719   0_1653            2    0.99      0      1.98  3.668868e-07\n",
       "2079   0_807            1    1.99      0      1.99  5.347270e-07\n",
       "665   0_1601            1    1.99      0      1.99  7.025672e-07\n",
       "...      ...          ...     ...    ...       ...           ...\n",
       "3152   2_209          814   69.99      2  56971.86  9.755094e-01\n",
       "3034   2_102         1027   59.14      2  60736.78  9.806321e-01\n",
       "3045   2_112          968   67.57      2  65407.76  9.861487e-01\n",
       "3070   2_135         1005   68.99      2  69334.95  9.919965e-01\n",
       "3096   2_159          650  145.99      2  94893.50  1.000000e+00\n",
       "\n",
       "[3265 rows x 6 columns]"
      ]
     },
     "execution_count": 43,
     "metadata": {},
     "output_type": "execute_result"
    }
   ],
   "source": [
    "CA_par_produit['CA_cum'] = CA_par_produit['CA'].cumsum()/(CA_par_produit['CA'].sum())\n",
    "CA_par_produit"
   ]
  },
  {
   "cell_type": "code",
   "execution_count": 44,
   "id": "de05454c",
   "metadata": {},
   "outputs": [
    {
     "data": {
      "image/png": "[encoded data removed]",
      "text/plain": [
       "<Figure size 2160x720 with 1 Axes>"
      ]
     },
     "metadata": {},
     "output_type": "display_data"
    }
   ],
   "source": [
    "xaxis = np.linspace(0, 1, len(CA_par_produit))\n",
    "plt.plot(xaxis, CA_par_produit['CA_cum'])\n",
    "plt.plot(xaxis, xaxis)\n",
    "plt.title(\"Courbe de Lorenz représentant la répartition du chiffre d'affaires entre les produits\")\n",
    "plt.show()"
   ]
  },
  {
   "cell_type": "markdown",
   "id": "893773ac",
   "metadata": {},
   "source": [
    "On voit que la répartition est très hétérogène : il semblerait que 80% des produits ne génèrent qu'environ 20% du chiffre d'affaires tandis que les 20% restants en génèrent les 80% restants."
   ]
  },
  {
   "cell_type": "markdown",
   "id": "b612d699",
   "metadata": {},
   "source": [
    "On calcule l'indice de Gini pour compléter la courbe de Lorenz :"
   ]
  },
  {
   "cell_type": "code",
   "execution_count": 45,
   "id": "3cc23ad5",
   "metadata": {},
   "outputs": [
    {
     "name": "stdout",
     "output_type": "stream",
     "text": [
      "L'indice de Gini est de :  0.743\n"
     ]
    }
   ],
   "source": [
    "AUC = (CA_par_produit['CA_cum'].sum() -CA_par_produit['CA_cum'][-1:] -CA_par_produit['CA_cum'][0])/len(CA_par_produit)\n",
    "S = 0.5 - AUC\n",
    "gini = 2*S\n",
    "print(\"L'indice de Gini est de : \", round(gini, 3)[3096])"
   ]
  },
  {
   "cell_type": "markdown",
   "id": "c8709ed1",
   "metadata": {},
   "source": [
    "L'indice de Gini se rapproche de 1 et vient confirmer l'observation que la distribution est très inéquitable."
   ]
  },
  {
   "cell_type": "markdown",
   "id": "7c2758c0",
   "metadata": {},
   "source": [
    "#### Top ventes"
   ]
  },
  {
   "cell_type": "markdown",
   "id": "581788a5",
   "metadata": {},
   "source": [
    "On reprend cette table, que l'on trie par chiffre d'affaires décroissant et dont on prend les 10 premières références. On réalise un pie chart des catégories des livres les plus vendus :"
   ]
  },
  {
   "cell_type": "code",
   "execution_count": 46,
   "id": "7bac6d2e",
   "metadata": {},
   "outputs": [
    {
     "data": {
      "text/html": [
       "<div>\n",
       "<style scoped>\n",
       "    .dataframe tbody tr th:only-of-type {\n",
       "        vertical-align: middle;\n",
       "    }\n",
       "\n",
       "    .dataframe tbody tr th {\n",
       "        vertical-align: top;\n",
       "    }\n",
       "\n",
       "    .dataframe thead th {\n",
       "        text-align: right;\n",
       "    }\n",
       "</style>\n",
       "<table border=\"1\" class=\"dataframe\">\n",
       "  <thead>\n",
       "    <tr style=\"text-align: right;\">\n",
       "      <th></th>\n",
       "      <th>id_prod</th>\n",
       "      <th>CA</th>\n",
       "    </tr>\n",
       "  </thead>\n",
       "  <tbody>\n",
       "    <tr>\n",
       "      <th>3096</th>\n",
       "      <td>2_159</td>\n",
       "      <td>94893.50</td>\n",
       "    </tr>\n",
       "    <tr>\n",
       "      <th>3070</th>\n",
       "      <td>2_135</td>\n",
       "      <td>69334.95</td>\n",
       "    </tr>\n",
       "    <tr>\n",
       "      <th>3045</th>\n",
       "      <td>2_112</td>\n",
       "      <td>65407.76</td>\n",
       "    </tr>\n",
       "    <tr>\n",
       "      <th>3034</th>\n",
       "      <td>2_102</td>\n",
       "      <td>60736.78</td>\n",
       "    </tr>\n",
       "    <tr>\n",
       "      <th>3152</th>\n",
       "      <td>2_209</td>\n",
       "      <td>56971.86</td>\n",
       "    </tr>\n",
       "    <tr>\n",
       "      <th>2619</th>\n",
       "      <td>1_395</td>\n",
       "      <td>54356.25</td>\n",
       "    </tr>\n",
       "    <tr>\n",
       "      <th>2591</th>\n",
       "      <td>1_369</td>\n",
       "      <td>54025.48</td>\n",
       "    </tr>\n",
       "    <tr>\n",
       "      <th>3043</th>\n",
       "      <td>2_110</td>\n",
       "      <td>53846.25</td>\n",
       "    </tr>\n",
       "    <tr>\n",
       "      <th>3201</th>\n",
       "      <td>2_39</td>\n",
       "      <td>53060.85</td>\n",
       "    </tr>\n",
       "    <tr>\n",
       "      <th>3104</th>\n",
       "      <td>2_166</td>\n",
       "      <td>52449.12</td>\n",
       "    </tr>\n",
       "  </tbody>\n",
       "</table>\n",
       "</div>"
      ],
      "text/plain": [
       "     id_prod        CA\n",
       "3096   2_159  94893.50\n",
       "3070   2_135  69334.95\n",
       "3045   2_112  65407.76\n",
       "3034   2_102  60736.78\n",
       "3152   2_209  56971.86\n",
       "2619   1_395  54356.25\n",
       "2591   1_369  54025.48\n",
       "3043   2_110  53846.25\n",
       "3201    2_39  53060.85\n",
       "3104   2_166  52449.12"
      ]
     },
     "execution_count": 46,
     "metadata": {},
     "output_type": "execute_result"
    }
   ],
   "source": [
    "top_10 = CA_par_produit.sort_values(by=\"CA\", ascending=False).head(10)\n",
    "top_10[['id_prod', 'CA']]"
   ]
  },
  {
   "cell_type": "code",
   "execution_count": 47,
   "id": "bb11807f",
   "metadata": {},
   "outputs": [
    {
     "data": {
      "image/png": "[encoded data removed]",
      "text/plain": [
       "<Figure size 360x360 with 1 Axes>"
      ]
     },
     "metadata": {},
     "output_type": "display_data"
    }
   ],
   "source": [
    "top_10_categ = top_10.groupby('categ')['categ'].agg(np.sum)\n",
    "sns.set(rc={\"figure.figsize\":(5, 5)})\n",
    "plt.pie(np.array(top_10_categ), labels = ['1', '2'], colors = sns.color_palette(\"tab10\"), autopct='%.2f', startangle=90)\n",
    "plt.title(\"Répartition des 10 meilleures ventes par catégorie\")\n",
    "plt.show()"
   ]
  },
  {
   "cell_type": "markdown",
   "id": "420a1def",
   "metadata": {},
   "source": [
    "On voit que le chiffre d'affaires généré par les 10 meilleures ventes est à 89% généré par les livres de catégorie 2."
   ]
  },
  {
   "cell_type": "markdown",
   "id": "3abff517",
   "metadata": {},
   "source": [
    "#### Flops"
   ]
  },
  {
   "cell_type": "markdown",
   "id": "f7fb75ab",
   "metadata": {},
   "source": [
    "Ici, on classe par catégorie les produits répertoriés dans le tableau des ventes mais qui n'ont pas été vendus (auxquels on a appliqué un client_id = 0)"
   ]
  },
  {
   "cell_type": "code",
   "execution_count": 48,
   "id": "fc5da194",
   "metadata": {
    "scrolled": true
   },
   "outputs": [
    {
     "data": {
      "text/html": [
       "<div>\n",
       "<style scoped>\n",
       "    .dataframe tbody tr th:only-of-type {\n",
       "        vertical-align: middle;\n",
       "    }\n",
       "\n",
       "    .dataframe tbody tr th {\n",
       "        vertical-align: top;\n",
       "    }\n",
       "\n",
       "    .dataframe thead th {\n",
       "        text-align: right;\n",
       "    }\n",
       "</style>\n",
       "<table border=\"1\" class=\"dataframe\">\n",
       "  <thead>\n",
       "    <tr style=\"text-align: right;\">\n",
       "      <th></th>\n",
       "      <th>id_prod</th>\n",
       "      <th>categ</th>\n",
       "    </tr>\n",
       "  </thead>\n",
       "  <tbody>\n",
       "    <tr>\n",
       "      <th>679332</th>\n",
       "      <td>0_1016</td>\n",
       "      <td>0.0</td>\n",
       "    </tr>\n",
       "    <tr>\n",
       "      <th>679333</th>\n",
       "      <td>0_1780</td>\n",
       "      <td>0.0</td>\n",
       "    </tr>\n",
       "    <tr>\n",
       "      <th>679334</th>\n",
       "      <td>0_1062</td>\n",
       "      <td>0.0</td>\n",
       "    </tr>\n",
       "    <tr>\n",
       "      <th>679335</th>\n",
       "      <td>0_1119</td>\n",
       "      <td>0.0</td>\n",
       "    </tr>\n",
       "    <tr>\n",
       "      <th>679336</th>\n",
       "      <td>0_1014</td>\n",
       "      <td>0.0</td>\n",
       "    </tr>\n",
       "    <tr>\n",
       "      <th>679337</th>\n",
       "      <td>1_0</td>\n",
       "      <td>1.0</td>\n",
       "    </tr>\n",
       "    <tr>\n",
       "      <th>679338</th>\n",
       "      <td>0_1318</td>\n",
       "      <td>0.0</td>\n",
       "    </tr>\n",
       "    <tr>\n",
       "      <th>679339</th>\n",
       "      <td>0_1800</td>\n",
       "      <td>0.0</td>\n",
       "    </tr>\n",
       "    <tr>\n",
       "      <th>679340</th>\n",
       "      <td>0_1645</td>\n",
       "      <td>0.0</td>\n",
       "    </tr>\n",
       "    <tr>\n",
       "      <th>679341</th>\n",
       "      <td>0_322</td>\n",
       "      <td>0.0</td>\n",
       "    </tr>\n",
       "    <tr>\n",
       "      <th>679342</th>\n",
       "      <td>0_1620</td>\n",
       "      <td>0.0</td>\n",
       "    </tr>\n",
       "    <tr>\n",
       "      <th>679343</th>\n",
       "      <td>0_1025</td>\n",
       "      <td>0.0</td>\n",
       "    </tr>\n",
       "    <tr>\n",
       "      <th>679344</th>\n",
       "      <td>2_87</td>\n",
       "      <td>2.0</td>\n",
       "    </tr>\n",
       "    <tr>\n",
       "      <th>679345</th>\n",
       "      <td>1_394</td>\n",
       "      <td>1.0</td>\n",
       "    </tr>\n",
       "    <tr>\n",
       "      <th>679346</th>\n",
       "      <td>2_72</td>\n",
       "      <td>2.0</td>\n",
       "    </tr>\n",
       "    <tr>\n",
       "      <th>679347</th>\n",
       "      <td>0_310</td>\n",
       "      <td>0.0</td>\n",
       "    </tr>\n",
       "    <tr>\n",
       "      <th>679348</th>\n",
       "      <td>0_1624</td>\n",
       "      <td>0.0</td>\n",
       "    </tr>\n",
       "    <tr>\n",
       "      <th>679349</th>\n",
       "      <td>2_86</td>\n",
       "      <td>2.0</td>\n",
       "    </tr>\n",
       "    <tr>\n",
       "      <th>679350</th>\n",
       "      <td>0_299</td>\n",
       "      <td>0.0</td>\n",
       "    </tr>\n",
       "    <tr>\n",
       "      <th>679351</th>\n",
       "      <td>0_510</td>\n",
       "      <td>0.0</td>\n",
       "    </tr>\n",
       "    <tr>\n",
       "      <th>679352</th>\n",
       "      <td>0_2308</td>\n",
       "      <td>0.0</td>\n",
       "    </tr>\n",
       "  </tbody>\n",
       "</table>\n",
       "</div>"
      ],
      "text/plain": [
       "       id_prod  categ\n",
       "679332  0_1016    0.0\n",
       "679333  0_1780    0.0\n",
       "679334  0_1062    0.0\n",
       "679335  0_1119    0.0\n",
       "679336  0_1014    0.0\n",
       "679337     1_0    1.0\n",
       "679338  0_1318    0.0\n",
       "679339  0_1800    0.0\n",
       "679340  0_1645    0.0\n",
       "679341   0_322    0.0\n",
       "679342  0_1620    0.0\n",
       "679343  0_1025    0.0\n",
       "679344    2_87    2.0\n",
       "679345   1_394    1.0\n",
       "679346    2_72    2.0\n",
       "679347   0_310    0.0\n",
       "679348  0_1624    0.0\n",
       "679349    2_86    2.0\n",
       "679350   0_299    0.0\n",
       "679351   0_510    0.0\n",
       "679352  0_2308    0.0"
      ]
     },
     "execution_count": 48,
     "metadata": {},
     "output_type": "execute_result"
    }
   ],
   "source": [
    "flops = pd.DataFrame(products_transactions[products_transactions['client_id'] == 0][['id_prod', 'price', 'categ']])\n",
    "flops[['id_prod', 'categ']]"
   ]
  },
  {
   "cell_type": "code",
   "execution_count": 49,
   "id": "0ea654fe",
   "metadata": {},
   "outputs": [
    {
     "data": {
      "image/png": "[encoded data removed]",
      "text/plain": [
       "<Figure size 360x360 with 1 Axes>"
      ]
     },
     "metadata": {},
     "output_type": "display_data"
    }
   ],
   "source": [
    "flops_categ = flops.groupby('categ')['categ'].count()\n",
    "plt.pie(np.array(flops_categ), labels = ['0', '1', '2'], colors = sns.color_palette(\"tab10\"), autopct='%.2f', startangle=90)\n",
    "plt.title(\"Répartition par catégorie des invendus\")\n",
    "plt.show()"
   ]
  },
  {
   "cell_type": "markdown",
   "id": "156c9d67",
   "metadata": {},
   "source": [
    "Parmi les invendus, 76% sont de catégorie 0, et 14% sont de catégorie 2."
   ]
  },
  {
   "cell_type": "markdown",
   "id": "92259546",
   "metadata": {},
   "source": [
    "#### Répartition par catégorie"
   ]
  },
  {
   "cell_type": "markdown",
   "id": "9bb811e3",
   "metadata": {},
   "source": [
    "Répartition du CA : "
   ]
  },
  {
   "cell_type": "code",
   "execution_count": 50,
   "id": "a74c6c89",
   "metadata": {},
   "outputs": [
    {
     "data": {
      "image/png": "[encoded data removed]",
      "text/plain": [
       "<Figure size 360x360 with 1 Axes>"
      ]
     },
     "metadata": {},
     "output_type": "display_data"
    }
   ],
   "source": [
    "CA_par_categ = CA_par_produit.groupby('categ')['categ'].count()\n",
    "plt.pie(np.array(CA_par_categ), labels = ['0', '1', '2'], colors = sns.color_palette(\"tab10\"), autopct='%.2f', startangle=90)\n",
    "plt.title(\"Répartition du chiffre d'affaires par catégorie\")\n",
    "plt.show()"
   ]
  },
  {
   "cell_type": "markdown",
   "id": "f9c749c8",
   "metadata": {},
   "source": [
    "On voit que le chiffre d'affaires est généré à 70% par la catégorie 0, et à 23% par la catégorie 1."
   ]
  },
  {
   "cell_type": "markdown",
   "id": "1a978d81",
   "metadata": {},
   "source": [
    "### Profil des clients"
   ]
  },
  {
   "cell_type": "markdown",
   "id": "bb7075cd",
   "metadata": {},
   "source": [
    "Répartition des clients par sexe :"
   ]
  },
  {
   "cell_type": "code",
   "execution_count": 51,
   "id": "3bde1433",
   "metadata": {},
   "outputs": [
    {
     "data": {
      "image/png": "[encoded data removed]",
      "text/plain": [
       "<Figure size 360x360 with 1 Axes>"
      ]
     },
     "metadata": {},
     "output_type": "display_data"
    }
   ],
   "source": [
    "repart_sex = np.array([customers[customers['sex'] == 'f'].count()[1], customers[customers['sex'] == 'm'].count()[1]])\n",
    "plt.pie(repart_sex, labels = ['Femmes', 'Hommes'], colors = sns.color_palette(\"tab10\"), autopct='%.2f', startangle=90)\n",
    "plt.title('Répartition des clients par sexe :')\n",
    "plt.show()"
   ]
  },
  {
   "cell_type": "markdown",
   "id": "f1e9d845",
   "metadata": {},
   "source": [
    "On observe que les clients sont équitablement répartis entre hommes et femmes."
   ]
  },
  {
   "cell_type": "markdown",
   "id": "33d5e906",
   "metadata": {},
   "source": [
    "Répartition des clients par année de naissance :"
   ]
  },
  {
   "cell_type": "code",
   "execution_count": 52,
   "id": "1b424a53",
   "metadata": {},
   "outputs": [
    {
     "data": {
      "image/png": "[encoded data removed]",
      "text/plain": [
       "<Figure size 720x360 with 1 Axes>"
      ]
     },
     "metadata": {},
     "output_type": "display_data"
    }
   ],
   "source": [
    "sns.set(rc={\"figure.figsize\":(10, 5)})\n",
    "sns.histplot(customers['age'], bins = 20)\n",
    "plt.title(\"Répartition des clients par âge :\")\n",
    "plt.show()"
   ]
  },
  {
   "cell_type": "code",
   "execution_count": 53,
   "id": "49751325",
   "metadata": {},
   "outputs": [
    {
     "data": {
      "text/plain": [
       "count    8621.000000\n",
       "mean       43.724394\n",
       "std        16.917958\n",
       "min        18.000000\n",
       "25%        30.000000\n",
       "50%        43.000000\n",
       "75%        56.000000\n",
       "max        93.000000\n",
       "Name: age, dtype: float64"
      ]
     },
     "execution_count": 53,
     "metadata": {},
     "output_type": "execute_result"
    }
   ],
   "source": [
    "customers['age'].describe()"
   ]
  },
  {
   "cell_type": "markdown",
   "id": "b4ed070b",
   "metadata": {},
   "source": [
    "On observe que les clients ont entre 18 et 93 ans, que la moyenne d'âge est de 44 ans et que la moitié des clients ont entre 30 et 56 ans. De plus, on remarque la répartition un peu plus importante autour des 40 ans et l'âge le plus représenté est d'environ 20 ans."
   ]
  },
  {
   "cell_type": "code",
   "execution_count": 54,
   "id": "336670f9",
   "metadata": {},
   "outputs": [
    {
     "data": {
      "image/png": "[encoded data removed]",
      "text/plain": [
       "<Figure size 720x360 with 1 Axes>"
      ]
     },
     "metadata": {},
     "output_type": "display_data"
    }
   ],
   "source": [
    "sns.countplot(y = customers['age_range'], palette = sns.color_palette(\"tab10\"))\n",
    "plt.title(\"Répartition des clients par tranche d'âge :\")\n",
    "plt.show()"
   ]
  },
  {
   "cell_type": "code",
   "execution_count": 55,
   "id": "870a9df3",
   "metadata": {
    "scrolled": true
   },
   "outputs": [
    {
     "data": {
      "image/png": "[encoded data removed]",
      "text/plain": [
       "<Figure size 720x360 with 1 Axes>"
      ]
     },
     "metadata": {},
     "output_type": "display_data"
    }
   ],
   "source": [
    "repart_tranche_age = customers.groupby('age_range')['age_range'].count()\n",
    "plt.pie(np.array(repart_tranche_age), labels = ['18-27', '27-38', '38-47', '47-59', '59+'], colors = sns.color_palette(\"tab10\"), autopct='%.2f', startangle=90)\n",
    "plt.title(\"Répartition des clients par tranche d'âge :\")\n",
    "plt.show()"
   ]
  },
  {
   "cell_type": "markdown",
   "id": "558905dc",
   "metadata": {},
   "source": [
    "En revanche, l'analyse par tranches d'âge montre que chacune d'elles est équitablement représentée parmi les clients, avec environ 20% pour chaque tranche d'âge."
   ]
  },
  {
   "cell_type": "markdown",
   "id": "8bf0d21f",
   "metadata": {},
   "source": [
    "### Répartition du CA entre les clients"
   ]
  },
  {
   "cell_type": "markdown",
   "id": "4be40c52",
   "metadata": {},
   "source": [
    "Nous allons avoir besoin d'un dataframe qui calcule le chiffre d'affaires généré par client :"
   ]
  },
  {
   "cell_type": "code",
   "execution_count": 56,
   "id": "f5de6701",
   "metadata": {},
   "outputs": [
    {
     "data": {
      "text/html": [
       "<div>\n",
       "<style scoped>\n",
       "    .dataframe tbody tr th:only-of-type {\n",
       "        vertical-align: middle;\n",
       "    }\n",
       "\n",
       "    .dataframe tbody tr th {\n",
       "        vertical-align: top;\n",
       "    }\n",
       "\n",
       "    .dataframe thead th {\n",
       "        text-align: right;\n",
       "    }\n",
       "</style>\n",
       "<table border=\"1\" class=\"dataframe\">\n",
       "  <thead>\n",
       "    <tr style=\"text-align: right;\">\n",
       "      <th></th>\n",
       "      <th>client_id</th>\n",
       "      <th>CA</th>\n",
       "    </tr>\n",
       "  </thead>\n",
       "  <tbody>\n",
       "    <tr>\n",
       "      <th>2169</th>\n",
       "      <td>c_8351</td>\n",
       "      <td>6.31</td>\n",
       "    </tr>\n",
       "    <tr>\n",
       "      <th>2717</th>\n",
       "      <td>c_8140</td>\n",
       "      <td>8.30</td>\n",
       "    </tr>\n",
       "    <tr>\n",
       "      <th>2462</th>\n",
       "      <td>c_8114</td>\n",
       "      <td>9.98</td>\n",
       "    </tr>\n",
       "  </tbody>\n",
       "</table>\n",
       "</div>"
      ],
      "text/plain": [
       "     client_id    CA\n",
       "2169    c_8351  6.31\n",
       "2717    c_8140  8.30\n",
       "2462    c_8114  9.98"
      ]
     },
     "execution_count": 56,
     "metadata": {},
     "output_type": "execute_result"
    }
   ],
   "source": [
    "tmp = pd.merge(customers_transactions, products, on=\"id_prod\")\n",
    "CA_par_client = pd.DataFrame(tmp.groupby('client_id')['price'].agg(np.sum)).rename(columns = {'price' : 'CA'})\n",
    "CA_par_client = pd.merge(customers, CA_par_client, on=\"client_id\")[['client_id', 'CA']].sort_values(by=\"CA\")\n",
    "CA_par_client.head(3)"
   ]
  },
  {
   "cell_type": "markdown",
   "id": "79b15396",
   "metadata": {},
   "source": [
    "Nous allons maintenant utiliser une courbe de Lorenz pour représenter la répartition du chiffre d'affaires par client."
   ]
  },
  {
   "cell_type": "code",
   "execution_count": 57,
   "id": "508a8058",
   "metadata": {},
   "outputs": [
    {
     "data": {
      "text/html": [
       "<div>\n",
       "<style scoped>\n",
       "    .dataframe tbody tr th:only-of-type {\n",
       "        vertical-align: middle;\n",
       "    }\n",
       "\n",
       "    .dataframe tbody tr th {\n",
       "        vertical-align: top;\n",
       "    }\n",
       "\n",
       "    .dataframe thead th {\n",
       "        text-align: right;\n",
       "    }\n",
       "</style>\n",
       "<table border=\"1\" class=\"dataframe\">\n",
       "  <thead>\n",
       "    <tr style=\"text-align: right;\">\n",
       "      <th></th>\n",
       "      <th>client_id</th>\n",
       "      <th>CA</th>\n",
       "      <th>CA_cum</th>\n",
       "    </tr>\n",
       "  </thead>\n",
       "  <tbody>\n",
       "    <tr>\n",
       "      <th>2169</th>\n",
       "      <td>c_8351</td>\n",
       "      <td>6.31</td>\n",
       "      <td>5.321967e-07</td>\n",
       "    </tr>\n",
       "    <tr>\n",
       "      <th>2717</th>\n",
       "      <td>c_8140</td>\n",
       "      <td>8.30</td>\n",
       "      <td>1.232234e-06</td>\n",
       "    </tr>\n",
       "    <tr>\n",
       "      <th>2462</th>\n",
       "      <td>c_8114</td>\n",
       "      <td>9.98</td>\n",
       "      <td>2.073965e-06</td>\n",
       "    </tr>\n",
       "  </tbody>\n",
       "</table>\n",
       "</div>"
      ],
      "text/plain": [
       "     client_id    CA        CA_cum\n",
       "2169    c_8351  6.31  5.321967e-07\n",
       "2717    c_8140  8.30  1.232234e-06\n",
       "2462    c_8114  9.98  2.073965e-06"
      ]
     },
     "execution_count": 57,
     "metadata": {},
     "output_type": "execute_result"
    }
   ],
   "source": [
    "CA_par_client['CA_cum'] = (CA_par_client['CA'].cumsum())/(CA_par_client['CA'].sum())\n",
    "CA_par_client.head(3)"
   ]
  },
  {
   "cell_type": "code",
   "execution_count": 58,
   "id": "cd98dc28",
   "metadata": {},
   "outputs": [
    {
     "data": {
      "image/png": "[encoded data removed]",
      "text/plain": [
       "<Figure size 720x360 with 1 Axes>"
      ]
     },
     "metadata": {},
     "output_type": "display_data"
    }
   ],
   "source": [
    "xaxis = np.linspace(0, 1, len(CA_par_client))\n",
    "plt.figure(figsize = (10, 5))\n",
    "plt.plot(xaxis, CA_par_client['CA_cum'])\n",
    "plt.plot(xaxis, xaxis)\n",
    "plt.title(\"Courbe de Lorenz représentant la répartition du chiffre d'affaires entre les clients\")\n",
    "plt.show()"
   ]
  },
  {
   "cell_type": "markdown",
   "id": "227e8e25",
   "metadata": {},
   "source": [
    "On peut observer que la courbe bleue est relativement loin de la bissectrice. Cela signifie que le chiffre d'affaires est inéquitablement réparti entre les clients."
   ]
  },
  {
   "cell_type": "markdown",
   "id": "84204178",
   "metadata": {},
   "source": [
    "On calcule l'indice de Gini pour compléter la courbe de Lorenz :"
   ]
  },
  {
   "cell_type": "code",
   "execution_count": 59,
   "id": "7df966ec",
   "metadata": {},
   "outputs": [
    {
     "name": "stdout",
     "output_type": "stream",
     "text": [
      "L'indice de Gini est de :  0.447\n"
     ]
    }
   ],
   "source": [
    "AUC = (CA_par_client['CA_cum'].sum() -CA_par_client['CA_cum'][-1:] -CA_par_client['CA_cum'][0])/len(CA_par_client)\n",
    "S = 0.5 - AUC\n",
    "gini = 2*S\n",
    "print(\"L'indice de Gini est de : \", round(gini, 3)[3633])"
   ]
  },
  {
   "cell_type": "markdown",
   "id": "a9c894e4",
   "metadata": {},
   "source": [
    "L'indice de Gini témoigne d'une répartition assez hétérogène du chiffre d'affaires entre les clients. Pour une équité parfaite, il serait égal à 0, or il est ici de 0.4."
   ]
  },
  {
   "cell_type": "markdown",
   "id": "f4f9c851",
   "metadata": {},
   "source": [
    "### Analyse des outliers"
   ]
  },
  {
   "cell_type": "markdown",
   "id": "b352759d",
   "metadata": {},
   "source": [
    "On remarque sur la courbe de Lorenz que quelques clients représentent une proportion non-négligeable du chiffre d'affaires. On s'intéresse à ces outliers pour une étude spécifique :"
   ]
  },
  {
   "cell_type": "markdown",
   "id": "996f21b2",
   "metadata": {},
   "source": [
    "On commence par les mettre en évidence :"
   ]
  },
  {
   "cell_type": "code",
   "execution_count": 61,
   "id": "86f94a08",
   "metadata": {},
   "outputs": [
    {
     "data": {
      "image/png": "[encoded data removed]",
      "text/plain": [
       "<Figure size 720x360 with 1 Axes>"
      ]
     },
     "metadata": {},
     "output_type": "display_data"
    }
   ],
   "source": [
    "tmp = pd.merge(CA_par_client, customers, on=\"client_id\")[['client_id', 'CA', 'age']]\n",
    "sns.scatterplot(data = tmp, x = 'age', y = 'CA')\n",
    "plt.title(\"Représentation du chiffre d'affaire généré par client en fonction de leur âge\")\n",
    "plt.show()"
   ]
  },
  {
   "cell_type": "code",
   "execution_count": 62,
   "id": "454c0b0e",
   "metadata": {},
   "outputs": [
    {
     "data": {
      "text/html": [
       "<div>\n",
       "<style scoped>\n",
       "    .dataframe tbody tr th:only-of-type {\n",
       "        vertical-align: middle;\n",
       "    }\n",
       "\n",
       "    .dataframe tbody tr th {\n",
       "        vertical-align: top;\n",
       "    }\n",
       "\n",
       "    .dataframe thead th {\n",
       "        text-align: right;\n",
       "    }\n",
       "</style>\n",
       "<table border=\"1\" class=\"dataframe\">\n",
       "  <thead>\n",
       "    <tr style=\"text-align: right;\">\n",
       "      <th></th>\n",
       "      <th>client_id</th>\n",
       "      <th>CA</th>\n",
       "      <th>age</th>\n",
       "    </tr>\n",
       "  </thead>\n",
       "  <tbody>\n",
       "    <tr>\n",
       "      <th>8596</th>\n",
       "      <td>c_3454</td>\n",
       "      <td>113677.155</td>\n",
       "      <td>53</td>\n",
       "    </tr>\n",
       "    <tr>\n",
       "      <th>8597</th>\n",
       "      <td>c_6714</td>\n",
       "      <td>153677.370</td>\n",
       "      <td>54</td>\n",
       "    </tr>\n",
       "    <tr>\n",
       "      <th>8598</th>\n",
       "      <td>c_4958</td>\n",
       "      <td>289760.340</td>\n",
       "      <td>23</td>\n",
       "    </tr>\n",
       "    <tr>\n",
       "      <th>8599</th>\n",
       "      <td>c_1609</td>\n",
       "      <td>324033.350</td>\n",
       "      <td>42</td>\n",
       "    </tr>\n",
       "  </tbody>\n",
       "</table>\n",
       "</div>"
      ],
      "text/plain": [
       "     client_id          CA  age\n",
       "8596    c_3454  113677.155   53\n",
       "8597    c_6714  153677.370   54\n",
       "8598    c_4958  289760.340   23\n",
       "8599    c_1609  324033.350   42"
      ]
     },
     "execution_count": 62,
     "metadata": {},
     "output_type": "execute_result"
    }
   ],
   "source": [
    "clients_outliers = tmp[tmp['CA'] >= 100000]\n",
    "clients_outliers"
   ]
  },
  {
   "cell_type": "markdown",
   "id": "abbf3953",
   "metadata": {},
   "source": [
    "On a quatre clients outliers."
   ]
  },
  {
   "cell_type": "code",
   "execution_count": 63,
   "id": "cf1b967f",
   "metadata": {},
   "outputs": [
    {
     "data": {
      "text/html": [
       "<div>\n",
       "<style scoped>\n",
       "    .dataframe tbody tr th:only-of-type {\n",
       "        vertical-align: middle;\n",
       "    }\n",
       "\n",
       "    .dataframe tbody tr th {\n",
       "        vertical-align: top;\n",
       "    }\n",
       "\n",
       "    .dataframe thead th {\n",
       "        text-align: right;\n",
       "    }\n",
       "</style>\n",
       "<table border=\"1\" class=\"dataframe\">\n",
       "  <thead>\n",
       "    <tr style=\"text-align: right;\">\n",
       "      <th></th>\n",
       "      <th>client_id</th>\n",
       "      <th>CA</th>\n",
       "      <th>age</th>\n",
       "      <th>sex</th>\n",
       "    </tr>\n",
       "  </thead>\n",
       "  <tbody>\n",
       "    <tr>\n",
       "      <th>0</th>\n",
       "      <td>c_3454</td>\n",
       "      <td>113677.155</td>\n",
       "      <td>53</td>\n",
       "      <td>m</td>\n",
       "    </tr>\n",
       "    <tr>\n",
       "      <th>1</th>\n",
       "      <td>c_6714</td>\n",
       "      <td>153677.370</td>\n",
       "      <td>54</td>\n",
       "      <td>f</td>\n",
       "    </tr>\n",
       "    <tr>\n",
       "      <th>2</th>\n",
       "      <td>c_4958</td>\n",
       "      <td>289760.340</td>\n",
       "      <td>23</td>\n",
       "      <td>m</td>\n",
       "    </tr>\n",
       "    <tr>\n",
       "      <th>3</th>\n",
       "      <td>c_1609</td>\n",
       "      <td>324033.350</td>\n",
       "      <td>42</td>\n",
       "      <td>m</td>\n",
       "    </tr>\n",
       "  </tbody>\n",
       "</table>\n",
       "</div>"
      ],
      "text/plain": [
       "  client_id          CA  age sex\n",
       "0    c_3454  113677.155   53   m\n",
       "1    c_6714  153677.370   54   f\n",
       "2    c_4958  289760.340   23   m\n",
       "3    c_1609  324033.350   42   m"
      ]
     },
     "execution_count": 63,
     "metadata": {},
     "output_type": "execute_result"
    }
   ],
   "source": [
    "tmp = pd.merge(clients_outliers, customers, on=\"client_id\", how=\"left\").drop(columns = ['age_y', 'birth', 'age_range']).rename(columns = {'age_x' : 'age'})\n",
    "tmp"
   ]
  },
  {
   "cell_type": "markdown",
   "id": "197e75b6",
   "metadata": {},
   "source": [
    "On observe que parmi eux, on a 3 hommes et 1 femme, un client de 23 ans et le reste ayant plus de 40 ans (dont 2 ayant plus de 50 ans)."
   ]
  },
  {
   "cell_type": "code",
   "execution_count": 64,
   "id": "02942cc2",
   "metadata": {},
   "outputs": [
    {
     "data": {
      "text/html": [
       "<div>\n",
       "<style scoped>\n",
       "    .dataframe tbody tr th:only-of-type {\n",
       "        vertical-align: middle;\n",
       "    }\n",
       "\n",
       "    .dataframe tbody tr th {\n",
       "        vertical-align: top;\n",
       "    }\n",
       "\n",
       "    .dataframe thead th {\n",
       "        text-align: right;\n",
       "    }\n",
       "</style>\n",
       "<table border=\"1\" class=\"dataframe\">\n",
       "  <thead>\n",
       "    <tr style=\"text-align: right;\">\n",
       "      <th></th>\n",
       "      <th>client_id</th>\n",
       "      <th>CA</th>\n",
       "      <th>age</th>\n",
       "      <th>sex</th>\n",
       "      <th>price</th>\n",
       "      <th>categ</th>\n",
       "    </tr>\n",
       "  </thead>\n",
       "  <tbody>\n",
       "    <tr>\n",
       "      <th>0</th>\n",
       "      <td>c_3454</td>\n",
       "      <td>113677.155</td>\n",
       "      <td>53</td>\n",
       "      <td>m</td>\n",
       "      <td>4.18</td>\n",
       "      <td>0.0</td>\n",
       "    </tr>\n",
       "    <tr>\n",
       "      <th>1</th>\n",
       "      <td>c_3454</td>\n",
       "      <td>113677.155</td>\n",
       "      <td>53</td>\n",
       "      <td>m</td>\n",
       "      <td>4.18</td>\n",
       "      <td>0.0</td>\n",
       "    </tr>\n",
       "    <tr>\n",
       "      <th>2</th>\n",
       "      <td>c_3454</td>\n",
       "      <td>113677.155</td>\n",
       "      <td>53</td>\n",
       "      <td>m</td>\n",
       "      <td>4.18</td>\n",
       "      <td>0.0</td>\n",
       "    </tr>\n",
       "    <tr>\n",
       "      <th>3</th>\n",
       "      <td>c_3454</td>\n",
       "      <td>113677.155</td>\n",
       "      <td>53</td>\n",
       "      <td>m</td>\n",
       "      <td>4.18</td>\n",
       "      <td>0.0</td>\n",
       "    </tr>\n",
       "    <tr>\n",
       "      <th>4</th>\n",
       "      <td>c_3454</td>\n",
       "      <td>113677.155</td>\n",
       "      <td>53</td>\n",
       "      <td>m</td>\n",
       "      <td>4.18</td>\n",
       "      <td>0.0</td>\n",
       "    </tr>\n",
       "    <tr>\n",
       "      <th>...</th>\n",
       "      <td>...</td>\n",
       "      <td>...</td>\n",
       "      <td>...</td>\n",
       "      <td>...</td>\n",
       "      <td>...</td>\n",
       "      <td>...</td>\n",
       "    </tr>\n",
       "    <tr>\n",
       "      <th>46638</th>\n",
       "      <td>c_1609</td>\n",
       "      <td>324033.350</td>\n",
       "      <td>42</td>\n",
       "      <td>m</td>\n",
       "      <td>2.99</td>\n",
       "      <td>0.0</td>\n",
       "    </tr>\n",
       "    <tr>\n",
       "      <th>46639</th>\n",
       "      <td>c_1609</td>\n",
       "      <td>324033.350</td>\n",
       "      <td>42</td>\n",
       "      <td>m</td>\n",
       "      <td>1.99</td>\n",
       "      <td>0.0</td>\n",
       "    </tr>\n",
       "    <tr>\n",
       "      <th>46640</th>\n",
       "      <td>c_1609</td>\n",
       "      <td>324033.350</td>\n",
       "      <td>42</td>\n",
       "      <td>m</td>\n",
       "      <td>8.30</td>\n",
       "      <td>0.0</td>\n",
       "    </tr>\n",
       "    <tr>\n",
       "      <th>46641</th>\n",
       "      <td>c_1609</td>\n",
       "      <td>324033.350</td>\n",
       "      <td>42</td>\n",
       "      <td>m</td>\n",
       "      <td>2.99</td>\n",
       "      <td>0.0</td>\n",
       "    </tr>\n",
       "    <tr>\n",
       "      <th>46642</th>\n",
       "      <td>c_1609</td>\n",
       "      <td>324033.350</td>\n",
       "      <td>42</td>\n",
       "      <td>m</td>\n",
       "      <td>29.02</td>\n",
       "      <td>0.0</td>\n",
       "    </tr>\n",
       "  </tbody>\n",
       "</table>\n",
       "<p>46643 rows × 6 columns</p>\n",
       "</div>"
      ],
      "text/plain": [
       "      client_id          CA  age sex  price  categ\n",
       "0        c_3454  113677.155   53   m   4.18    0.0\n",
       "1        c_3454  113677.155   53   m   4.18    0.0\n",
       "2        c_3454  113677.155   53   m   4.18    0.0\n",
       "3        c_3454  113677.155   53   m   4.18    0.0\n",
       "4        c_3454  113677.155   53   m   4.18    0.0\n",
       "...         ...         ...  ...  ..    ...    ...\n",
       "46638    c_1609  324033.350   42   m   2.99    0.0\n",
       "46639    c_1609  324033.350   42   m   1.99    0.0\n",
       "46640    c_1609  324033.350   42   m   8.30    0.0\n",
       "46641    c_1609  324033.350   42   m   2.99    0.0\n",
       "46642    c_1609  324033.350   42   m  29.02    0.0\n",
       "\n",
       "[46643 rows x 6 columns]"
      ]
     },
     "execution_count": 64,
     "metadata": {},
     "output_type": "execute_result"
    }
   ],
   "source": [
    "tmp = pd.merge(tmp, products_transactions, on=\"client_id\", how=\"left\")[['client_id', 'CA', 'age', 'sex', 'price', 'categ']]\n",
    "tmp"
   ]
  },
  {
   "cell_type": "code",
   "execution_count": 65,
   "id": "75d4eae5",
   "metadata": {},
   "outputs": [
    {
     "data": {
      "image/png": "[encoded data removed]",
      "text/plain": [
       "<Figure size 720x360 with 1 Axes>"
      ]
     },
     "metadata": {},
     "output_type": "display_data"
    }
   ],
   "source": [
    "sns.histplot(tmp, x = 'client_id', hue='categ', multiple='stack', palette='tab10')\n",
    "plt.title(\"Répartition du nombre de ventes des quatre clients outliers par catégorie\")\n",
    "plt.show()"
   ]
  },
  {
   "cell_type": "markdown",
   "id": "50917df6",
   "metadata": {},
   "source": [
    "Premièrement, on peut voir que ce sont les fréquences d'achat qui sont inhabituellement élevées chez ces clients, et particulièrement le dernier. Ensuite, on observe un comportement différent entre le client le plus jeune, qui achète des livres de catégorie 2 et peu de catégorie 1, et les autres, qui achètent un volume comparable de livres de catégorie 1 et également de la catégorie 0 en proportions variables."
   ]
  },
  {
   "cell_type": "code",
   "execution_count": 66,
   "id": "eb7be8fd",
   "metadata": {},
   "outputs": [
    {
     "name": "stdout",
     "output_type": "stream",
     "text": [
      "Ces clients génèrent  7.43 % du chiffre d'affaires total.\n"
     ]
    }
   ],
   "source": [
    "print(\"Ces clients génèrent \", round(clients_outliers['CA'].sum()*100 / CA_par_client['CA'].sum(), 2), \"% du chiffre d'affaires total.\")"
   ]
  },
  {
   "cell_type": "markdown",
   "id": "2a0b5e1b",
   "metadata": {},
   "source": [
    "### Préparations des variables d'intérêt"
   ]
  },
  {
   "cell_type": "markdown",
   "id": "015f2322",
   "metadata": {},
   "source": [
    "On commence par préparer des dataframes avec les variables dont on va avoir besoin, en prenant soin de retirer les outliers (dont l'étude a déjà été faite séparément) :"
   ]
  },
  {
   "cell_type": "code",
   "execution_count": 67,
   "id": "908f1957",
   "metadata": {},
   "outputs": [],
   "source": [
    "CA_par_client = CA_par_client[~CA_par_client['client_id'].isin(clients_outliers['client_id'])]"
   ]
  },
  {
   "cell_type": "code",
   "execution_count": 68,
   "id": "ea03773f",
   "metadata": {},
   "outputs": [
    {
     "data": {
      "text/html": [
       "<div>\n",
       "<style scoped>\n",
       "    .dataframe tbody tr th:only-of-type {\n",
       "        vertical-align: middle;\n",
       "    }\n",
       "\n",
       "    .dataframe tbody tr th {\n",
       "        vertical-align: top;\n",
       "    }\n",
       "\n",
       "    .dataframe thead th {\n",
       "        text-align: right;\n",
       "    }\n",
       "</style>\n",
       "<table border=\"1\" class=\"dataframe\">\n",
       "  <thead>\n",
       "    <tr style=\"text-align: right;\">\n",
       "      <th></th>\n",
       "      <th>client_id</th>\n",
       "      <th>categ</th>\n",
       "      <th>sex</th>\n",
       "      <th>age</th>\n",
       "      <th>count</th>\n",
       "    </tr>\n",
       "  </thead>\n",
       "  <tbody>\n",
       "    <tr>\n",
       "      <th>0</th>\n",
       "      <td>c_1</td>\n",
       "      <td>0</td>\n",
       "      <td>m</td>\n",
       "      <td>67</td>\n",
       "      <td>30</td>\n",
       "    </tr>\n",
       "    <tr>\n",
       "      <th>1</th>\n",
       "      <td>c_1</td>\n",
       "      <td>1</td>\n",
       "      <td>m</td>\n",
       "      <td>67</td>\n",
       "      <td>8</td>\n",
       "    </tr>\n",
       "    <tr>\n",
       "      <th>2</th>\n",
       "      <td>c_1</td>\n",
       "      <td>2</td>\n",
       "      <td>m</td>\n",
       "      <td>67</td>\n",
       "      <td>1</td>\n",
       "    </tr>\n",
       "  </tbody>\n",
       "</table>\n",
       "</div>"
      ],
      "text/plain": [
       "  client_id  categ sex  age  count\n",
       "0       c_1      0   m   67     30\n",
       "1       c_1      1   m   67      8\n",
       "2       c_1      2   m   67      1"
      ]
     },
     "execution_count": 68,
     "metadata": {},
     "output_type": "execute_result"
    }
   ],
   "source": [
    "tmp = pd.merge(customers_transactions, CA_par_client, on=\"client_id\", how=\"right\")\n",
    "df = pd.merge(tmp, products, on=\"id_prod\")\n",
    "df_categ = df.groupby(['client_id', 'categ'])['age'].agg(['mean', 'count']).rename(columns = {'mean' : 'age'})\n",
    "df_categ.reset_index(inplace=True)\n",
    "df_categ = pd.merge(df_categ, customers, on=\"client_id\")[['client_id', 'categ', 'sex', 'age_y', 'count']].rename(columns = {'age_y' : 'age'})\n",
    "df_categ.head(3)"
   ]
  },
  {
   "cell_type": "code",
   "execution_count": 69,
   "id": "90da44de",
   "metadata": {},
   "outputs": [
    {
     "data": {
      "text/html": [
       "<div>\n",
       "<style scoped>\n",
       "    .dataframe tbody tr th:only-of-type {\n",
       "        vertical-align: middle;\n",
       "    }\n",
       "\n",
       "    .dataframe tbody tr th {\n",
       "        vertical-align: top;\n",
       "    }\n",
       "\n",
       "    .dataframe thead th {\n",
       "        text-align: right;\n",
       "    }\n",
       "</style>\n",
       "<table border=\"1\" class=\"dataframe\">\n",
       "  <thead>\n",
       "    <tr style=\"text-align: right;\">\n",
       "      <th></th>\n",
       "      <th>sales_freq</th>\n",
       "      <th>age</th>\n",
       "      <th>total_amount</th>\n",
       "    </tr>\n",
       "    <tr>\n",
       "      <th>client_id</th>\n",
       "      <th></th>\n",
       "      <th></th>\n",
       "      <th></th>\n",
       "    </tr>\n",
       "  </thead>\n",
       "  <tbody>\n",
       "    <tr>\n",
       "      <th>c_1</th>\n",
       "      <td>39.0</td>\n",
       "      <td>67.0</td>\n",
       "      <td>558.18</td>\n",
       "    </tr>\n",
       "    <tr>\n",
       "      <th>c_10</th>\n",
       "      <td>58.0</td>\n",
       "      <td>66.0</td>\n",
       "      <td>1353.60</td>\n",
       "    </tr>\n",
       "    <tr>\n",
       "      <th>c_100</th>\n",
       "      <td>8.0</td>\n",
       "      <td>30.0</td>\n",
       "      <td>254.85</td>\n",
       "    </tr>\n",
       "  </tbody>\n",
       "</table>\n",
       "</div>"
      ],
      "text/plain": [
       "           sales_freq   age  total_amount\n",
       "client_id                                \n",
       "c_1              39.0  67.0        558.18\n",
       "c_10             58.0  66.0       1353.60\n",
       "c_100             8.0  30.0        254.85"
      ]
     },
     "execution_count": 69,
     "metadata": {},
     "output_type": "execute_result"
    }
   ],
   "source": [
    "tmp = pd.merge(customers_transactions, CA_par_client, on=\"client_id\", how=\"right\")\n",
    "df = pd.merge(tmp, products, on=\"id_prod\")\n",
    "df = df[['client_id', 'age', 'CA']]\n",
    "df.rename(columns = {'CA' : 'total_amount'}, inplace=True)\n",
    "tmp = df.groupby('client_id')['client_id'].count().to_frame().rename(columns = {'client_id' : 'sales_freq'})\n",
    "df = pd.merge(tmp, df, on=\"client_id\")\n",
    "df = df.groupby('client_id')[['sales_freq', 'age', 'total_amount']].agg(np.mean)\n",
    "df_montant_freq = df\n",
    "df_montant_freq.head(3)"
   ]
  },
  {
   "cell_type": "code",
   "execution_count": 70,
   "id": "58d68a2f",
   "metadata": {},
   "outputs": [
    {
     "data": {
      "text/html": [
       "<div>\n",
       "<style scoped>\n",
       "    .dataframe tbody tr th:only-of-type {\n",
       "        vertical-align: middle;\n",
       "    }\n",
       "\n",
       "    .dataframe tbody tr th {\n",
       "        vertical-align: top;\n",
       "    }\n",
       "\n",
       "    .dataframe thead th {\n",
       "        text-align: right;\n",
       "    }\n",
       "</style>\n",
       "<table border=\"1\" class=\"dataframe\">\n",
       "  <thead>\n",
       "    <tr style=\"text-align: right;\">\n",
       "      <th></th>\n",
       "      <th>client_id</th>\n",
       "      <th>age</th>\n",
       "      <th>avg_cart</th>\n",
       "    </tr>\n",
       "  </thead>\n",
       "  <tbody>\n",
       "    <tr>\n",
       "      <th>0</th>\n",
       "      <td>c_4410</td>\n",
       "      <td>55</td>\n",
       "      <td>26.477308</td>\n",
       "    </tr>\n",
       "    <tr>\n",
       "      <th>1</th>\n",
       "      <td>c_7839</td>\n",
       "      <td>47</td>\n",
       "      <td>29.206842</td>\n",
       "    </tr>\n",
       "    <tr>\n",
       "      <th>2</th>\n",
       "      <td>c_1699</td>\n",
       "      <td>38</td>\n",
       "      <td>31.766667</td>\n",
       "    </tr>\n",
       "  </tbody>\n",
       "</table>\n",
       "</div>"
      ],
      "text/plain": [
       "  client_id  age   avg_cart\n",
       "0    c_4410   55  26.477308\n",
       "1    c_7839   47  29.206842\n",
       "2    c_1699   38  31.766667"
      ]
     },
     "execution_count": 70,
     "metadata": {},
     "output_type": "execute_result"
    }
   ],
   "source": [
    "tmp = pd.merge(customers_transactions, CA_par_client, on=\"client_id\", how=\"right\")\n",
    "df = pd.merge(tmp, products, on=\"id_prod\")\n",
    "df.groupby('session_id')['price'].agg(np.mean)\n",
    "tmp = df.groupby(['client_id', 'session_id'])['price'].agg(np.sum).to_frame().rename(columns = {'price' : 'cart'})\n",
    "df = tmp.groupby('client_id')['cart'].agg(np.mean).to_frame().rename(columns = {'cart' : 'avg_cart'})\n",
    "df_age_avg = pd.merge(customers, df, on=\"client_id\")[['client_id', 'age', 'avg_cart']]\n",
    "df_age_avg.head(3)"
   ]
  },
  {
   "cell_type": "markdown",
   "id": "3045dd9e",
   "metadata": {},
   "source": [
    "### Analyse des corrélations"
   ]
  },
  {
   "cell_type": "markdown",
   "id": "91b537be",
   "metadata": {},
   "source": [
    "#### Lien entre le genre d'un client et les catégories de livres achetés :"
   ]
  },
  {
   "cell_type": "markdown",
   "id": "0d33b75d",
   "metadata": {},
   "source": [
    "Ici, on recherche une corrélation entre deux variables qualitatives. Commençons par une représentation graphique :"
   ]
  },
  {
   "cell_type": "code",
   "execution_count": 71,
   "id": "d5e86aef",
   "metadata": {
    "scrolled": true
   },
   "outputs": [
    {
     "data": {
      "image/png": "[encoded data removed]",
      "text/plain": [
       "<Figure size 720x360 with 1 Axes>"
      ]
     },
     "metadata": {},
     "output_type": "display_data"
    }
   ],
   "source": [
    "sns.histplot(df_categ, x = 'categ', hue='sex', multiple='stack')\n",
    "plt.title(\"Graphique représentant la proportion d'hommes et de femmes parmi les clients pour chaque catégorie de livres vendus\")\n",
    "plt.show()"
   ]
  },
  {
   "cell_type": "markdown",
   "id": "c388649c",
   "metadata": {},
   "source": [
    "A priori, les proportions homme/femme semblent constantes quelle que soit la catégorie de livre. Cela signifie qu'on n'attend pas de corrélation entre ces deux variables. Nous allons vérifier cela à l'aide du test statistique du chi-deux."
   ]
  },
  {
   "cell_type": "code",
   "execution_count": 72,
   "id": "a19f61d6",
   "metadata": {},
   "outputs": [
    {
     "data": {
      "text/html": [
       "<div>\n",
       "<style scoped>\n",
       "    .dataframe tbody tr th:only-of-type {\n",
       "        vertical-align: middle;\n",
       "    }\n",
       "\n",
       "    .dataframe tbody tr th {\n",
       "        vertical-align: top;\n",
       "    }\n",
       "\n",
       "    .dataframe thead th {\n",
       "        text-align: right;\n",
       "    }\n",
       "</style>\n",
       "<table border=\"1\" class=\"dataframe\">\n",
       "  <thead>\n",
       "    <tr style=\"text-align: right;\">\n",
       "      <th></th>\n",
       "      <th>test</th>\n",
       "      <th>lambda</th>\n",
       "      <th>chi2</th>\n",
       "      <th>dof</th>\n",
       "      <th>pval</th>\n",
       "      <th>cramer</th>\n",
       "      <th>power</th>\n",
       "    </tr>\n",
       "  </thead>\n",
       "  <tbody>\n",
       "    <tr>\n",
       "      <th>0</th>\n",
       "      <td>pearson</td>\n",
       "      <td>1.000000</td>\n",
       "      <td>1.024728</td>\n",
       "      <td>2.0</td>\n",
       "      <td>0.599078</td>\n",
       "      <td>0.007170</td>\n",
       "      <td>0.134916</td>\n",
       "    </tr>\n",
       "    <tr>\n",
       "      <th>1</th>\n",
       "      <td>cressie-read</td>\n",
       "      <td>0.666667</td>\n",
       "      <td>1.024649</td>\n",
       "      <td>2.0</td>\n",
       "      <td>0.599101</td>\n",
       "      <td>0.007170</td>\n",
       "      <td>0.134909</td>\n",
       "    </tr>\n",
       "    <tr>\n",
       "      <th>2</th>\n",
       "      <td>log-likelihood</td>\n",
       "      <td>0.000000</td>\n",
       "      <td>1.024501</td>\n",
       "      <td>2.0</td>\n",
       "      <td>0.599146</td>\n",
       "      <td>0.007169</td>\n",
       "      <td>0.134896</td>\n",
       "    </tr>\n",
       "    <tr>\n",
       "      <th>3</th>\n",
       "      <td>freeman-tukey</td>\n",
       "      <td>-0.500000</td>\n",
       "      <td>1.024398</td>\n",
       "      <td>2.0</td>\n",
       "      <td>0.599177</td>\n",
       "      <td>0.007169</td>\n",
       "      <td>0.134886</td>\n",
       "    </tr>\n",
       "    <tr>\n",
       "      <th>4</th>\n",
       "      <td>mod-log-likelihood</td>\n",
       "      <td>-1.000000</td>\n",
       "      <td>1.024303</td>\n",
       "      <td>2.0</td>\n",
       "      <td>0.599205</td>\n",
       "      <td>0.007168</td>\n",
       "      <td>0.134878</td>\n",
       "    </tr>\n",
       "    <tr>\n",
       "      <th>5</th>\n",
       "      <td>neyman</td>\n",
       "      <td>-2.000000</td>\n",
       "      <td>1.024134</td>\n",
       "      <td>2.0</td>\n",
       "      <td>0.599256</td>\n",
       "      <td>0.007168</td>\n",
       "      <td>0.134863</td>\n",
       "    </tr>\n",
       "  </tbody>\n",
       "</table>\n",
       "</div>"
      ],
      "text/plain": [
       "                 test    lambda      chi2  dof      pval    cramer     power\n",
       "0             pearson  1.000000  1.024728  2.0  0.599078  0.007170  0.134916\n",
       "1        cressie-read  0.666667  1.024649  2.0  0.599101  0.007170  0.134909\n",
       "2      log-likelihood  0.000000  1.024501  2.0  0.599146  0.007169  0.134896\n",
       "3       freeman-tukey -0.500000  1.024398  2.0  0.599177  0.007169  0.134886\n",
       "4  mod-log-likelihood -1.000000  1.024303  2.0  0.599205  0.007168  0.134878\n",
       "5              neyman -2.000000  1.024134  2.0  0.599256  0.007168  0.134863"
      ]
     },
     "execution_count": 72,
     "metadata": {},
     "output_type": "execute_result"
    }
   ],
   "source": [
    "pg.chi2_independence(df_categ, x = 'categ', y = 'sex')[2]"
   ]
  },
  {
   "cell_type": "markdown",
   "id": "41190283",
   "metadata": {},
   "source": [
    "On voit que la p-valeur est toujours bien supérieure à 5%, ainsi on ne rejette pas l'hypothèse que les deux variables sont indépendantes. Il n'y a pas de lien entre le genre d'un client et les catégories de livres qu'il achète."
   ]
  },
  {
   "cell_type": "markdown",
   "id": "38e64988",
   "metadata": {},
   "source": [
    "#### Lien entre l'âge des clients et les catégories des livres achetés :"
   ]
  },
  {
   "cell_type": "markdown",
   "id": "b852fdbd",
   "metadata": {},
   "source": [
    "On commence par une représentation graphique :"
   ]
  },
  {
   "cell_type": "code",
   "execution_count": 73,
   "id": "04ec9348",
   "metadata": {},
   "outputs": [
    {
     "data": {
      "image/png": "[encoded data removed]",
      "text/plain": [
       "<Figure size 720x360 with 1 Axes>"
      ]
     },
     "metadata": {},
     "output_type": "display_data"
    }
   ],
   "source": [
    "sns.boxplot(data = df_categ, x = 'categ', y = 'age')\n",
    "plt.title(\"Graphique représentant la dispersion d'âge parmi les clients pour chaque catégorie de livres vendus\")\n",
    "plt.show()"
   ]
  },
  {
   "cell_type": "markdown",
   "id": "bb5fb573",
   "metadata": {},
   "source": [
    "On voit que les trois boîtes ne sont pas identiques, cela signifie qu'il peut potentiellement y avoir une corrélation entre les variables age et categ. Pour savoir quel test statistique il est bon d'utiliser ici, on se doit de vérifier la normalité et l'homoscédasticité de la distribution :"
   ]
  },
  {
   "cell_type": "code",
   "execution_count": 74,
   "id": "55bebace",
   "metadata": {},
   "outputs": [
    {
     "name": "stderr",
     "output_type": "stream",
     "text": [
      "C:\\Users\\sanat_avvxgog\\anaconda3\\lib\\site-packages\\scipy\\stats\\morestats.py:1760: UserWarning: p-value may not be accurate for N > 5000.\n",
      "  warnings.warn(\"p-value may not be accurate for N > 5000.\")\n"
     ]
    },
    {
     "data": {
      "text/html": [
       "<div>\n",
       "<style scoped>\n",
       "    .dataframe tbody tr th:only-of-type {\n",
       "        vertical-align: middle;\n",
       "    }\n",
       "\n",
       "    .dataframe tbody tr th {\n",
       "        vertical-align: top;\n",
       "    }\n",
       "\n",
       "    .dataframe thead th {\n",
       "        text-align: right;\n",
       "    }\n",
       "</style>\n",
       "<table border=\"1\" class=\"dataframe\">\n",
       "  <thead>\n",
       "    <tr style=\"text-align: right;\">\n",
       "      <th></th>\n",
       "      <th>W</th>\n",
       "      <th>pval</th>\n",
       "      <th>normal</th>\n",
       "    </tr>\n",
       "  </thead>\n",
       "  <tbody>\n",
       "    <tr>\n",
       "      <th>0</th>\n",
       "      <td>0.979657</td>\n",
       "      <td>4.204658e-32</td>\n",
       "      <td>False</td>\n",
       "    </tr>\n",
       "    <tr>\n",
       "      <th>1</th>\n",
       "      <td>0.970726</td>\n",
       "      <td>2.692415e-38</td>\n",
       "      <td>False</td>\n",
       "    </tr>\n",
       "    <tr>\n",
       "      <th>2</th>\n",
       "      <td>0.859387</td>\n",
       "      <td>0.000000e+00</td>\n",
       "      <td>False</td>\n",
       "    </tr>\n",
       "  </tbody>\n",
       "</table>\n",
       "</div>"
      ],
      "text/plain": [
       "          W          pval  normal\n",
       "0  0.979657  4.204658e-32   False\n",
       "1  0.970726  2.692415e-38   False\n",
       "2  0.859387  0.000000e+00   False"
      ]
     },
     "execution_count": 74,
     "metadata": {},
     "output_type": "execute_result"
    }
   ],
   "source": [
    "pg.normality(data = df_categ, dv = 'age', group = 'categ')"
   ]
  },
  {
   "cell_type": "markdown",
   "id": "d03ad5af",
   "metadata": {},
   "source": [
    "On voit ici que la distribution de l'âge n'est pas normale. Ainsi, on ne peut utiliser le test par ANOVA, on préférera le test de Kruskal-Wallis."
   ]
  },
  {
   "cell_type": "code",
   "execution_count": 75,
   "id": "5bc1309d",
   "metadata": {},
   "outputs": [
    {
     "data": {
      "text/html": [
       "<div>\n",
       "<style scoped>\n",
       "    .dataframe tbody tr th:only-of-type {\n",
       "        vertical-align: middle;\n",
       "    }\n",
       "\n",
       "    .dataframe tbody tr th {\n",
       "        vertical-align: top;\n",
       "    }\n",
       "\n",
       "    .dataframe thead th {\n",
       "        text-align: right;\n",
       "    }\n",
       "</style>\n",
       "<table border=\"1\" class=\"dataframe\">\n",
       "  <thead>\n",
       "    <tr style=\"text-align: right;\">\n",
       "      <th></th>\n",
       "      <th>Source</th>\n",
       "      <th>ddof1</th>\n",
       "      <th>H</th>\n",
       "      <th>p-unc</th>\n",
       "    </tr>\n",
       "  </thead>\n",
       "  <tbody>\n",
       "    <tr>\n",
       "      <th>Kruskal</th>\n",
       "      <td>age</td>\n",
       "      <td>75</td>\n",
       "      <td>1400.149958</td>\n",
       "      <td>3.013879e-243</td>\n",
       "    </tr>\n",
       "  </tbody>\n",
       "</table>\n",
       "</div>"
      ],
      "text/plain": [
       "        Source  ddof1            H          p-unc\n",
       "Kruskal    age     75  1400.149958  3.013879e-243"
      ]
     },
     "execution_count": 75,
     "metadata": {},
     "output_type": "execute_result"
    }
   ],
   "source": [
    "pg.kruskal(data = df_categ, dv = 'categ', between = 'age')"
   ]
  },
  {
   "cell_type": "markdown",
   "id": "ad2c38a7",
   "metadata": {},
   "source": [
    "On a ici une p-valeur extrêmement faible, ce qui indique que les variables âge et catégorie sont corrélées. Il semblerait que les clients plus jeunes s'orientent vers la catégorie 2, et que les clients plus âgés se répartissent entre les catégories 0 et 1."
   ]
  },
  {
   "cell_type": "markdown",
   "id": "4e0d9714",
   "metadata": {},
   "source": [
    "#### Lien entre l'âge des clients et le montant total des achats :"
   ]
  },
  {
   "cell_type": "markdown",
   "id": "8f6f1c2d",
   "metadata": {},
   "source": [
    "On cherche ici une corrélation entre deux variables quantitatives. On commence par une représentation graphique :"
   ]
  },
  {
   "cell_type": "code",
   "execution_count": 76,
   "id": "236bbc19",
   "metadata": {},
   "outputs": [
    {
     "data": {
      "image/png": "[encoded data removed]",
      "text/plain": [
       "<Figure size 432x432 with 3 Axes>"
      ]
     },
     "metadata": {},
     "output_type": "display_data"
    }
   ],
   "source": [
    "sns.jointplot(data = df_montant_freq, x = 'age', y = 'total_amount', kind=\"hex\", joint_kws={'gridsize':40, 'bins':'log'})\n",
    "plt.title(\"Représentation du montant total du panier des clients en fonction de leur âge\", pad=80)\n",
    "plt.show()"
   ]
  },
  {
   "cell_type": "markdown",
   "id": "cbd31bde",
   "metadata": {},
   "source": [
    "On peut distinguer une légère corrélation entre les deux variables ici, du fait qu'elles semblent décroître ensemble."
   ]
  },
  {
   "cell_type": "markdown",
   "id": "36e07bef",
   "metadata": {},
   "source": [
    "On calcule le coefficient de corrélation de Pearson :"
   ]
  },
  {
   "cell_type": "code",
   "execution_count": 77,
   "id": "d7d56c20",
   "metadata": {},
   "outputs": [
    {
     "data": {
      "text/html": [
       "<div>\n",
       "<style scoped>\n",
       "    .dataframe tbody tr th:only-of-type {\n",
       "        vertical-align: middle;\n",
       "    }\n",
       "\n",
       "    .dataframe tbody tr th {\n",
       "        vertical-align: top;\n",
       "    }\n",
       "\n",
       "    .dataframe thead th {\n",
       "        text-align: right;\n",
       "    }\n",
       "</style>\n",
       "<table border=\"1\" class=\"dataframe\">\n",
       "  <thead>\n",
       "    <tr style=\"text-align: right;\">\n",
       "      <th></th>\n",
       "      <th>n</th>\n",
       "      <th>r</th>\n",
       "      <th>CI95%</th>\n",
       "      <th>p-val</th>\n",
       "      <th>BF10</th>\n",
       "      <th>power</th>\n",
       "    </tr>\n",
       "  </thead>\n",
       "  <tbody>\n",
       "    <tr>\n",
       "      <th>pearson</th>\n",
       "      <td>8596</td>\n",
       "      <td>-0.188308</td>\n",
       "      <td>[-0.21, -0.17]</td>\n",
       "      <td>1.918728e-69</td>\n",
       "      <td>3.096e+65</td>\n",
       "      <td>1.0</td>\n",
       "    </tr>\n",
       "  </tbody>\n",
       "</table>\n",
       "</div>"
      ],
      "text/plain": [
       "            n         r           CI95%         p-val       BF10  power\n",
       "pearson  8596 -0.188308  [-0.21, -0.17]  1.918728e-69  3.096e+65    1.0"
      ]
     },
     "execution_count": 77,
     "metadata": {},
     "output_type": "execute_result"
    }
   ],
   "source": [
    "pg.corr(df_montant_freq['age'], df_montant_freq['total_amount'])"
   ]
  },
  {
   "cell_type": "markdown",
   "id": "4113940f",
   "metadata": {},
   "source": [
    "On voit que la p-valeur est très petite. Cela signifie que l'on rejette l'hypothèse d'indépendance, et qu'il y a bien une corrélation linéaire entre l'âge des clients et le montant total des paniers."
   ]
  },
  {
   "cell_type": "markdown",
   "id": "1927f58b",
   "metadata": {},
   "source": [
    "#### Lien entre l'âge des clients et la fréquence d'achat :"
   ]
  },
  {
   "cell_type": "markdown",
   "id": "6ff2307a",
   "metadata": {},
   "source": [
    "On commence par une représentation graphique :"
   ]
  },
  {
   "cell_type": "code",
   "execution_count": 78,
   "id": "916c1266",
   "metadata": {
    "scrolled": true
   },
   "outputs": [
    {
     "data": {
      "image/png": "[encoded data removed]",
      "text/plain": [
       "<Figure size 432x432 with 3 Axes>"
      ]
     },
     "metadata": {},
     "output_type": "display_data"
    }
   ],
   "source": [
    "sns.jointplot(data = df_montant_freq, x = 'age', y = 'sales_freq', kind=\"hex\", joint_kws={'gridsize':40, 'bins':'log'})\n",
    "plt.title(\"Représentation de la fréquence d'achat des clients en fonction de leur âge\", pad=80)\n",
    "plt.show()"
   ]
  },
  {
   "cell_type": "markdown",
   "id": "b6f8c75a",
   "metadata": {},
   "source": [
    "Ici aussi, les variables semblent décroître ensemble."
   ]
  },
  {
   "cell_type": "markdown",
   "id": "0228d4ea",
   "metadata": {},
   "source": [
    "On réalise un test de corrélation linéaire :"
   ]
  },
  {
   "cell_type": "code",
   "execution_count": 79,
   "id": "a1c945f6",
   "metadata": {},
   "outputs": [
    {
     "data": {
      "text/html": [
       "<div>\n",
       "<style scoped>\n",
       "    .dataframe tbody tr th:only-of-type {\n",
       "        vertical-align: middle;\n",
       "    }\n",
       "\n",
       "    .dataframe tbody tr th {\n",
       "        vertical-align: top;\n",
       "    }\n",
       "\n",
       "    .dataframe thead th {\n",
       "        text-align: right;\n",
       "    }\n",
       "</style>\n",
       "<table border=\"1\" class=\"dataframe\">\n",
       "  <thead>\n",
       "    <tr style=\"text-align: right;\">\n",
       "      <th></th>\n",
       "      <th>n</th>\n",
       "      <th>r</th>\n",
       "      <th>CI95%</th>\n",
       "      <th>p-val</th>\n",
       "      <th>BF10</th>\n",
       "      <th>power</th>\n",
       "    </tr>\n",
       "  </thead>\n",
       "  <tbody>\n",
       "    <tr>\n",
       "      <th>pearson</th>\n",
       "      <td>8596</td>\n",
       "      <td>0.030439</td>\n",
       "      <td>[0.01, 0.05]</td>\n",
       "      <td>0.004767</td>\n",
       "      <td>0.725</td>\n",
       "      <td>0.805843</td>\n",
       "    </tr>\n",
       "  </tbody>\n",
       "</table>\n",
       "</div>"
      ],
      "text/plain": [
       "            n         r         CI95%     p-val   BF10     power\n",
       "pearson  8596  0.030439  [0.01, 0.05]  0.004767  0.725  0.805843"
      ]
     },
     "execution_count": 79,
     "metadata": {},
     "output_type": "execute_result"
    }
   ],
   "source": [
    "pg.corr(df_montant_freq['age'], df_montant_freq['sales_freq'])"
   ]
  },
  {
   "cell_type": "markdown",
   "id": "be4b7290",
   "metadata": {},
   "source": [
    "Ici, on observe que la p-valeur est bien inférieure à 0.05. On peut en déduire que l'âge des clients et leur fréquence d'achat sont corrélées."
   ]
  },
  {
   "cell_type": "markdown",
   "id": "5c7dc66d",
   "metadata": {},
   "source": [
    "#### Lien entre l'âge des clients et la taille du panier moyen :"
   ]
  },
  {
   "cell_type": "markdown",
   "id": "d5db3289",
   "metadata": {},
   "source": [
    "On commence par une représentation graphique :"
   ]
  },
  {
   "cell_type": "code",
   "execution_count": 80,
   "id": "a84e27f1",
   "metadata": {
    "scrolled": true
   },
   "outputs": [
    {
     "data": {
      "image/png": "[encoded data removed]",
      "text/plain": [
       "<Figure size 432x432 with 3 Axes>"
      ]
     },
     "metadata": {},
     "output_type": "display_data"
    }
   ],
   "source": [
    "sns.jointplot(data = df_age_avg, x = 'age', y = 'avg_cart', kind=\"hex\", joint_kws={'gridsize':40, 'bins':'log'})\n",
    "plt.title(\"Représentation de la fréquence d'achat des clients en fonction de leur âge\", pad=80)\n",
    "plt.show()"
   ]
  },
  {
   "cell_type": "markdown",
   "id": "32c5c82c",
   "metadata": {},
   "source": [
    "D'une certaine manière, la même observation d'une double-décroissance peut être faite ici."
   ]
  },
  {
   "cell_type": "markdown",
   "id": "4ee6ee80",
   "metadata": {},
   "source": [
    "On réalise un test de corrélation linéaire :"
   ]
  },
  {
   "cell_type": "code",
   "execution_count": 81,
   "id": "423e9666",
   "metadata": {},
   "outputs": [
    {
     "data": {
      "text/html": [
       "<div>\n",
       "<style scoped>\n",
       "    .dataframe tbody tr th:only-of-type {\n",
       "        vertical-align: middle;\n",
       "    }\n",
       "\n",
       "    .dataframe tbody tr th {\n",
       "        vertical-align: top;\n",
       "    }\n",
       "\n",
       "    .dataframe thead th {\n",
       "        text-align: right;\n",
       "    }\n",
       "</style>\n",
       "<table border=\"1\" class=\"dataframe\">\n",
       "  <thead>\n",
       "    <tr style=\"text-align: right;\">\n",
       "      <th></th>\n",
       "      <th>n</th>\n",
       "      <th>r</th>\n",
       "      <th>CI95%</th>\n",
       "      <th>p-val</th>\n",
       "      <th>BF10</th>\n",
       "      <th>power</th>\n",
       "    </tr>\n",
       "  </thead>\n",
       "  <tbody>\n",
       "    <tr>\n",
       "      <th>pearson</th>\n",
       "      <td>8596</td>\n",
       "      <td>-0.616911</td>\n",
       "      <td>[-0.63, -0.6]</td>\n",
       "      <td>0.0</td>\n",
       "      <td>inf</td>\n",
       "      <td>1.0</td>\n",
       "    </tr>\n",
       "  </tbody>\n",
       "</table>\n",
       "</div>"
      ],
      "text/plain": [
       "            n         r          CI95%  p-val BF10  power\n",
       "pearson  8596 -0.616911  [-0.63, -0.6]    0.0  inf    1.0"
      ]
     },
     "execution_count": 81,
     "metadata": {},
     "output_type": "execute_result"
    }
   ],
   "source": [
    "pg.corr(df_age_avg['age'], df_age_avg['avg_cart'])"
   ]
  },
  {
   "cell_type": "markdown",
   "id": "646afb58",
   "metadata": {},
   "source": [
    "Ici, la p-valeur est égale à  0. Cela signifie qu'il y a un lien de corrélation entre l'âge des clients et le montant moyen de leurs paniers."
   ]
  }
 ],
 "metadata": {
  "kernelspec": {
   "display_name": "Python 3 (ipykernel)",
   "language": "python",
   "name": "python3"
  },
  "language_info": {
   "codemirror_mode": {
    "name": "ipython",
    "version": 3
   },
   "file_extension": ".py",
   "mimetype": "text/x-python",
   "name": "python",
   "nbconvert_exporter": "python",
   "pygments_lexer": "ipython3",
   "version": "3.9.7"
  }
 },
 "nbformat": 4,
 "nbformat_minor": 5
}
